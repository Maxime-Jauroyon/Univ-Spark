{
 "cells": [
  {
   "attachments": {},
   "cell_type": "markdown",
   "metadata": {},
   "source": [
    "### Install requirements"
   ]
  },
  {
   "cell_type": "code",
   "execution_count": 1,
   "metadata": {},
   "outputs": [],
   "source": [
    "# !pip install textblob \n",
    "# !pip install pyspark"
   ]
  },
  {
   "attachments": {},
   "cell_type": "markdown",
   "metadata": {},
   "source": [
    "### Import libraries"
   ]
  },
  {
   "cell_type": "code",
   "execution_count": 2,
   "metadata": {},
   "outputs": [],
   "source": [
    "from pyspark import SparkContext\n",
    "from pyspark.streaming import StreamingContext\n",
    "from pyspark.mllib.clustering import StreamingKMeans\n",
    "from pyspark.mllib.linalg import Vectors\n",
    "from textblob import TextBlob\n",
    "from sklearn.preprocessing import LabelEncoder\n",
    "import json\n",
    "import requests\n",
    "\n",
    "# import warnings\n",
    "# warnings.filterwarnings(\"ignore\")"
   ]
  },
  {
   "cell_type": "code",
   "execution_count": 3,
   "metadata": {},
   "outputs": [
    {
     "name": "stderr",
     "output_type": "stream",
     "text": [
      "your 131072x1 screen size is bogus. expect trouble\n",
      "23/05/02 13:44:18 WARN Utils: Your hostname, DESKTOP-CBR75GN resolves to a loopback address: 127.0.1.1; using 172.28.139.190 instead (on interface eth0)\n",
      "23/05/02 13:44:18 WARN Utils: Set SPARK_LOCAL_IP if you need to bind to another address\n",
      "Setting default log level to \"WARN\".\n",
      "To adjust logging level use sc.setLogLevel(newLevel). For SparkR, use setLogLevel(newLevel).\n",
      "23/05/02 13:44:20 WARN NativeCodeLoader: Unable to load native-hadoop library for your platform... using builtin-java classes where applicable\n",
      "/home/maxime/Scientific_Programming/testvenv/lib/python3.8/site-packages/pyspark/streaming/context.py:72: FutureWarning: DStream is deprecated as of Spark 3.4.0. Migrate to Structured Streaming.\n",
      "  warnings.warn(\n"
     ]
    }
   ],
   "source": [
    "HOST = \"localhost\"        \n",
    "STREAM_PORT = 9999     \n",
    "\n",
    "sc = SparkContext.getOrCreate()\n",
    "sc.setCheckpointDir(\"spark_checkpoint\")   \n",
    "ssc = StreamingContext(sc, 10)\n",
    "\n",
    "submissions = ssc.socketTextStream(HOST, STREAM_PORT)"
   ]
  },
  {
   "cell_type": "code",
   "execution_count": 4,
   "metadata": {},
   "outputs": [],
   "source": [
    "sc.setLogLevel(\"ERROR\")"
   ]
  },
  {
   "cell_type": "code",
   "execution_count": 5,
   "metadata": {},
   "outputs": [],
   "source": [
    "def process_submission(message):\n",
    "\n",
    "    submission = json.loads(message)\n",
    "\n",
    "    title = submission['message']\n",
    "    metadata = submission['metadata']\n",
    "    author = metadata['author_name']\n",
    "    date = metadata['date']\n",
    "    score = metadata['score']\n",
    "    num_comments = metadata['num_comments']\n",
    "    upvote_ratio = metadata['upvote_ratio']\n",
    "    text = metadata['text']\n",
    "    subreddit_name = metadata['subreddit_name']\n",
    "\n",
    "    title_polarity, title_subjectivity = TextBlob(title).sentiment\n",
    "    text_polarity, text_subjectivity = TextBlob(text).sentiment\n",
    "\n",
    "    return {\n",
    "        'title': title,\n",
    "        'text': text,\n",
    "        'author': author,\n",
    "        'date': date,\n",
    "        'score': score,\n",
    "        'num_comments': num_comments,\n",
    "        'upvote_ratio': upvote_ratio,\n",
    "        'text': text,\n",
    "        'subreddit_name': subreddit_name,\n",
    "        'subreddit_hash': hash(subreddit_name),\n",
    "        'title_polarity': title_polarity,\n",
    "        'title_subjectivity': title_subjectivity,\n",
    "        'text_polarity': text_polarity,\n",
    "        'text_subjectivity': text_subjectivity\n",
    "    }\n"
   ]
  },
  {
   "attachments": {},
   "cell_type": "markdown",
   "metadata": {},
   "source": [
    "### Add processing to the pipeline"
   ]
  },
  {
   "cell_type": "code",
   "execution_count": 6,
   "metadata": {},
   "outputs": [],
   "source": [
    "submissions = submissions.map(process_submission)\n",
    "# submissions.pprint()\n",
    "training_data = submissions.map(lambda x: Vectors.dense(\n",
    "    [x['title_polarity'], x['title_subjectivity'], x['text_polarity'], x['text_subjectivity'], x[\"subreddit_hash\"]]))\n"
   ]
  },
  {
   "attachments": {},
   "cell_type": "markdown",
   "metadata": {},
   "source": [
    "### Cluster the data"
   ]
  },
  {
   "cell_type": "code",
   "execution_count": 7,
   "metadata": {},
   "outputs": [],
   "source": [
    "k = 4\n",
    "model = StreamingKMeans(k, decayFactor=1.0).setRandomCenters(5, 1.0, 0)\n",
    "model.trainOn(training_data)\n",
    "result = model.predictOn(training_data)"
   ]
  },
  {
   "attachments": {},
   "cell_type": "markdown",
   "metadata": {},
   "source": [
    "### Window operation"
   ]
  },
  {
   "cell_type": "code",
   "execution_count": 8,
   "metadata": {},
   "outputs": [],
   "source": [
    "pairs = result.map(lambda cluster: (cluster, 1))  \n",
    "# window of size 30s, and slides by 10s (very arbitrary)\n",
    "cluseter_counts = pairs.reduceByKeyAndWindow(lambda x, y: x + y, lambda x, y: x - y, 30, 10)\n",
    "cluseter_counts.pprint()"
   ]
  },
  {
   "attachments": {},
   "cell_type": "markdown",
   "metadata": {},
   "source": [
    "### Visualization"
   ]
  },
  {
   "cell_type": "code",
   "execution_count": 9,
   "metadata": {},
   "outputs": [],
   "source": [
    "# create viz.json if doesn't exist and set every cluster size to 0\n",
    "with open(\"viz.json\", \"w\") as f:\n",
    "    total_data = {}\n",
    "    for i in range(k):\n",
    "        total_data[str(i)] = 0\n",
    "    json.dump(total_data,f)"
   ]
  },
  {
   "cell_type": "code",
   "execution_count": 10,
   "metadata": {},
   "outputs": [],
   "source": [
    "def update_cluster_sizes(rdd):\n",
    "    if not rdd.isEmpty():\n",
    "        for x in rdd.collect(): \n",
    "            with open(\"viz.json\", \"r\") as f:\n",
    "                total_data = json.load(f)\n",
    "            total_data[str(x[0])] += x[1]\n",
    "            with open(\"viz.json\", \"w\") as f:\n",
    "                json.dump(total_data,f)"
   ]
  },
  {
   "cell_type": "code",
   "execution_count": 11,
   "metadata": {},
   "outputs": [],
   "source": [
    "# Update the cluster sizes in sliding windows\n",
    "cluseter_counts.foreachRDD(lambda rdd: update_cluster_sizes(rdd))"
   ]
  },
  {
   "attachments": {},
   "cell_type": "markdown",
   "metadata": {},
   "source": [
    "### Start the processing"
   ]
  },
  {
   "cell_type": "code",
   "execution_count": 12,
   "metadata": {},
   "outputs": [
    {
     "name": "stderr",
     "output_type": "stream",
     "text": [
      "                                                                                \r"
     ]
    },
    {
     "name": "stdout",
     "output_type": "stream",
     "text": [
      "-------------------------------------------\n",
      "Time: 2023-05-02 13:44:30\n",
      "-------------------------------------------\n",
      "\n"
     ]
    },
    {
     "name": "stderr",
     "output_type": "stream",
     "text": [
      "                                                                                \r"
     ]
    },
    {
     "name": "stdout",
     "output_type": "stream",
     "text": [
      "-------------------------------------------\n",
      "Time: 2023-05-02 13:44:40\n",
      "-------------------------------------------\n",
      "(0, 66)\n",
      "\n"
     ]
    },
    {
     "name": "stderr",
     "output_type": "stream",
     "text": [
      "                                                                                \r"
     ]
    },
    {
     "name": "stdout",
     "output_type": "stream",
     "text": [
      "-------------------------------------------\n",
      "Time: 2023-05-02 13:44:50\n",
      "-------------------------------------------\n",
      "(0, 96)\n",
      "(1, 47)\n",
      "\n"
     ]
    },
    {
     "name": "stderr",
     "output_type": "stream",
     "text": [
      "                                                                                \r"
     ]
    },
    {
     "name": "stdout",
     "output_type": "stream",
     "text": [
      "-------------------------------------------\n",
      "Time: 2023-05-02 13:45:00\n",
      "-------------------------------------------\n",
      "(0, 117)\n",
      "(1, 69)\n",
      "(2, 10)\n",
      "\n"
     ]
    },
    {
     "name": "stderr",
     "output_type": "stream",
     "text": [
      "                                                                                \r"
     ]
    },
    {
     "name": "stdout",
     "output_type": "stream",
     "text": [
      "-------------------------------------------\n",
      "Time: 2023-05-02 13:45:10\n",
      "-------------------------------------------\n",
      "(0, 63)\n",
      "(1, 78)\n",
      "(2, 14)\n",
      "(3, 4)\n",
      "\n"
     ]
    },
    {
     "name": "stderr",
     "output_type": "stream",
     "text": [
      "                                                                                \r"
     ]
    },
    {
     "name": "stdout",
     "output_type": "stream",
     "text": [
      "-------------------------------------------\n",
      "Time: 2023-05-02 13:45:20\n",
      "-------------------------------------------\n",
      "(0, 59)\n",
      "(1, 45)\n",
      "(2, 21)\n",
      "(3, 12)\n",
      "\n"
     ]
    },
    {
     "name": "stderr",
     "output_type": "stream",
     "text": [
      "                                                                                \r"
     ]
    },
    {
     "name": "stdout",
     "output_type": "stream",
     "text": [
      "-------------------------------------------\n",
      "Time: 2023-05-02 13:45:30\n",
      "-------------------------------------------\n",
      "(0, 66)\n",
      "(1, 35)\n",
      "(2, 22)\n",
      "(3, 24)\n",
      "\n"
     ]
    },
    {
     "name": "stderr",
     "output_type": "stream",
     "text": [
      "                                                                                \r"
     ]
    },
    {
     "name": "stdout",
     "output_type": "stream",
     "text": [
      "-------------------------------------------\n",
      "Time: 2023-05-02 13:45:40\n",
      "-------------------------------------------\n",
      "(0, 69)\n",
      "(1, 46)\n",
      "(2, 28)\n",
      "(3, 25)\n",
      "\n"
     ]
    },
    {
     "name": "stderr",
     "output_type": "stream",
     "text": [
      "                                                                                \r"
     ]
    },
    {
     "name": "stdout",
     "output_type": "stream",
     "text": [
      "-------------------------------------------\n",
      "Time: 2023-05-02 13:45:50\n",
      "-------------------------------------------\n",
      "(0, 59)\n",
      "(1, 74)\n",
      "(2, 28)\n",
      "(3, 24)\n",
      "\n"
     ]
    },
    {
     "name": "stderr",
     "output_type": "stream",
     "text": [
      "                                                                                \r"
     ]
    },
    {
     "name": "stdout",
     "output_type": "stream",
     "text": [
      "-------------------------------------------\n",
      "Time: 2023-05-02 13:46:00\n",
      "-------------------------------------------\n",
      "(0, 49)\n",
      "(1, 74)\n",
      "(2, 26)\n",
      "(3, 16)\n",
      "\n"
     ]
    },
    {
     "name": "stderr",
     "output_type": "stream",
     "text": [
      "                                                                                \r"
     ]
    },
    {
     "name": "stdout",
     "output_type": "stream",
     "text": [
      "-------------------------------------------\n",
      "Time: 2023-05-02 13:46:10\n",
      "-------------------------------------------\n",
      "(0, 50)\n",
      "(1, 70)\n",
      "(2, 18)\n",
      "(3, 22)\n",
      "\n"
     ]
    },
    {
     "name": "stderr",
     "output_type": "stream",
     "text": [
      "                                                                                \r"
     ]
    },
    {
     "name": "stdout",
     "output_type": "stream",
     "text": [
      "-------------------------------------------\n",
      "Time: 2023-05-02 13:46:20\n",
      "-------------------------------------------\n",
      "(0, 52)\n",
      "(1, 37)\n",
      "(2, 17)\n",
      "(3, 18)\n",
      "\n"
     ]
    },
    {
     "name": "stderr",
     "output_type": "stream",
     "text": [
      "                                                                                \r"
     ]
    },
    {
     "name": "stdout",
     "output_type": "stream",
     "text": [
      "-------------------------------------------\n",
      "Time: 2023-05-02 13:46:30\n",
      "-------------------------------------------\n",
      "(0, 49)\n",
      "(1, 34)\n",
      "(2, 18)\n",
      "(3, 19)\n",
      "\n"
     ]
    },
    {
     "name": "stderr",
     "output_type": "stream",
     "text": [
      "                                                                                \r"
     ]
    },
    {
     "name": "stdout",
     "output_type": "stream",
     "text": [
      "-------------------------------------------\n",
      "Time: 2023-05-02 13:46:40\n",
      "-------------------------------------------\n",
      "(0, 54)\n",
      "(1, 35)\n",
      "(2, 29)\n",
      "(3, 13)\n",
      "\n"
     ]
    },
    {
     "name": "stderr",
     "output_type": "stream",
     "text": [
      "                                                                                \r"
     ]
    },
    {
     "name": "stdout",
     "output_type": "stream",
     "text": [
      "-------------------------------------------\n",
      "Time: 2023-05-02 13:46:50\n",
      "-------------------------------------------\n",
      "(0, 51)\n",
      "(1, 66)\n",
      "(2, 30)\n",
      "(3, 19)\n",
      "\n"
     ]
    },
    {
     "name": "stderr",
     "output_type": "stream",
     "text": [
      "                                                                                \r"
     ]
    },
    {
     "name": "stdout",
     "output_type": "stream",
     "text": [
      "-------------------------------------------\n",
      "Time: 2023-05-02 13:47:00\n",
      "-------------------------------------------\n",
      "(0, 52)\n",
      "(1, 76)\n",
      "(2, 35)\n",
      "(3, 19)\n",
      "\n"
     ]
    },
    {
     "name": "stderr",
     "output_type": "stream",
     "text": [
      "                                                                                \r"
     ]
    },
    {
     "name": "stdout",
     "output_type": "stream",
     "text": [
      "-------------------------------------------\n",
      "Time: 2023-05-02 13:47:10\n",
      "-------------------------------------------\n",
      "(0, 44)\n",
      "(1, 68)\n",
      "(2, 31)\n",
      "(3, 21)\n",
      "\n"
     ]
    },
    {
     "name": "stderr",
     "output_type": "stream",
     "text": [
      "                                                                                \r"
     ]
    },
    {
     "name": "stdout",
     "output_type": "stream",
     "text": [
      "-------------------------------------------\n",
      "Time: 2023-05-02 13:47:20\n",
      "-------------------------------------------\n",
      "(0, 47)\n",
      "(1, 46)\n",
      "(2, 25)\n",
      "(3, 24)\n",
      "\n"
     ]
    },
    {
     "name": "stderr",
     "output_type": "stream",
     "text": [
      "                                                                                \r"
     ]
    },
    {
     "name": "stdout",
     "output_type": "stream",
     "text": [
      "-------------------------------------------\n",
      "Time: 2023-05-02 13:47:30\n",
      "-------------------------------------------\n",
      "(0, 49)\n",
      "(1, 41)\n",
      "(2, 15)\n",
      "(3, 27)\n",
      "\n"
     ]
    },
    {
     "name": "stderr",
     "output_type": "stream",
     "text": [
      "                                                                                \r"
     ]
    },
    {
     "name": "stdout",
     "output_type": "stream",
     "text": [
      "-------------------------------------------\n",
      "Time: 2023-05-02 13:47:40\n",
      "-------------------------------------------\n",
      "(0, 52)\n",
      "(1, 50)\n",
      "(2, 11)\n",
      "(3, 25)\n",
      "\n"
     ]
    },
    {
     "name": "stderr",
     "output_type": "stream",
     "text": [
      "                                                                                \r"
     ]
    },
    {
     "name": "stdout",
     "output_type": "stream",
     "text": [
      "-------------------------------------------\n",
      "Time: 2023-05-02 13:47:50\n",
      "-------------------------------------------\n",
      "(0, 59)\n",
      "(1, 77)\n",
      "(2, 23)\n",
      "(3, 34)\n",
      "\n"
     ]
    },
    {
     "name": "stderr",
     "output_type": "stream",
     "text": [
      "                                                                                \r"
     ]
    },
    {
     "name": "stdout",
     "output_type": "stream",
     "text": [
      "-------------------------------------------\n",
      "Time: 2023-05-02 13:48:00\n",
      "-------------------------------------------\n",
      "(0, 55)\n",
      "(1, 72)\n",
      "(2, 25)\n",
      "(3, 36)\n",
      "\n"
     ]
    },
    {
     "name": "stderr",
     "output_type": "stream",
     "text": [
      "                                                                                \r"
     ]
    },
    {
     "name": "stdout",
     "output_type": "stream",
     "text": [
      "-------------------------------------------\n",
      "Time: 2023-05-02 13:48:10\n",
      "-------------------------------------------\n",
      "(0, 53)\n",
      "(1, 61)\n",
      "(2, 30)\n",
      "(3, 38)\n",
      "\n"
     ]
    },
    {
     "name": "stderr",
     "output_type": "stream",
     "text": [
      "                                                                                \r"
     ]
    },
    {
     "name": "stdout",
     "output_type": "stream",
     "text": [
      "-------------------------------------------\n",
      "Time: 2023-05-02 13:48:20\n",
      "-------------------------------------------\n",
      "(0, 41)\n",
      "(1, 28)\n",
      "(2, 21)\n",
      "(3, 21)\n",
      "\n"
     ]
    },
    {
     "name": "stderr",
     "output_type": "stream",
     "text": [
      "                                                                                \r"
     ]
    },
    {
     "name": "stdout",
     "output_type": "stream",
     "text": [
      "-------------------------------------------\n",
      "Time: 2023-05-02 13:48:30\n",
      "-------------------------------------------\n",
      "(0, 41)\n",
      "(1, 33)\n",
      "(2, 21)\n",
      "(3, 17)\n",
      "\n"
     ]
    },
    {
     "name": "stderr",
     "output_type": "stream",
     "text": [
      "                                                                                \r"
     ]
    },
    {
     "name": "stdout",
     "output_type": "stream",
     "text": [
      "-------------------------------------------\n",
      "Time: 2023-05-02 13:48:40\n",
      "-------------------------------------------\n",
      "(0, 38)\n",
      "(1, 41)\n",
      "(2, 20)\n",
      "(3, 18)\n",
      "\n"
     ]
    },
    {
     "name": "stderr",
     "output_type": "stream",
     "text": [
      "                                                                                \r"
     ]
    },
    {
     "name": "stdout",
     "output_type": "stream",
     "text": [
      "-------------------------------------------\n",
      "Time: 2023-05-02 13:48:50\n",
      "-------------------------------------------\n",
      "(0, 35)\n",
      "(1, 73)\n",
      "(2, 21)\n",
      "(3, 21)\n",
      "\n"
     ]
    },
    {
     "name": "stderr",
     "output_type": "stream",
     "text": [
      "                                                                                \r"
     ]
    },
    {
     "name": "stdout",
     "output_type": "stream",
     "text": [
      "-------------------------------------------\n",
      "Time: 2023-05-02 13:49:00\n",
      "-------------------------------------------\n",
      "(0, 33)\n",
      "(1, 73)\n",
      "(2, 24)\n",
      "(3, 32)\n",
      "\n"
     ]
    },
    {
     "name": "stderr",
     "output_type": "stream",
     "text": [
      "                                                                                \r"
     ]
    },
    {
     "name": "stdout",
     "output_type": "stream",
     "text": [
      "-------------------------------------------\n",
      "Time: 2023-05-02 13:49:10\n",
      "-------------------------------------------\n",
      "(0, 30)\n",
      "(1, 71)\n",
      "(2, 25)\n",
      "(3, 27)\n",
      "\n"
     ]
    },
    {
     "name": "stderr",
     "output_type": "stream",
     "text": [
      "                                                                                \r"
     ]
    },
    {
     "name": "stdout",
     "output_type": "stream",
     "text": [
      "-------------------------------------------\n",
      "Time: 2023-05-02 13:49:20\n",
      "-------------------------------------------\n",
      "(0, 30)\n",
      "(1, 41)\n",
      "(2, 32)\n",
      "(3, 29)\n",
      "\n"
     ]
    },
    {
     "name": "stderr",
     "output_type": "stream",
     "text": [
      "                                                                                \r"
     ]
    },
    {
     "name": "stdout",
     "output_type": "stream",
     "text": [
      "-------------------------------------------\n",
      "Time: 2023-05-02 13:49:30\n",
      "-------------------------------------------\n",
      "(0, 33)\n",
      "(1, 38)\n",
      "(2, 32)\n",
      "(3, 19)\n",
      "\n"
     ]
    },
    {
     "name": "stderr",
     "output_type": "stream",
     "text": [
      "                                                                                \r"
     ]
    },
    {
     "name": "stdout",
     "output_type": "stream",
     "text": [
      "-------------------------------------------\n",
      "Time: 2023-05-02 13:49:40\n",
      "-------------------------------------------\n",
      "(0, 33)\n",
      "(1, 44)\n",
      "(2, 32)\n",
      "(3, 23)\n",
      "\n"
     ]
    },
    {
     "name": "stderr",
     "output_type": "stream",
     "text": [
      "                                                                                \r"
     ]
    },
    {
     "name": "stdout",
     "output_type": "stream",
     "text": [
      "-------------------------------------------\n",
      "Time: 2023-05-02 13:49:50\n",
      "-------------------------------------------\n",
      "(0, 36)\n",
      "(1, 73)\n",
      "(2, 28)\n",
      "(3, 24)\n",
      "\n"
     ]
    },
    {
     "name": "stderr",
     "output_type": "stream",
     "text": [
      "                                                                                \r"
     ]
    },
    {
     "name": "stdout",
     "output_type": "stream",
     "text": [
      "-------------------------------------------\n",
      "Time: 2023-05-02 13:50:00\n",
      "-------------------------------------------\n",
      "(0, 36)\n",
      "(1, 75)\n",
      "(2, 27)\n",
      "(3, 28)\n",
      "\n"
     ]
    },
    {
     "name": "stderr",
     "output_type": "stream",
     "text": [
      "                                                                                \r"
     ]
    },
    {
     "name": "stdout",
     "output_type": "stream",
     "text": [
      "-------------------------------------------\n",
      "Time: 2023-05-02 13:50:10\n",
      "-------------------------------------------\n",
      "(0, 41)\n",
      "(1, 64)\n",
      "(2, 27)\n",
      "(3, 27)\n",
      "\n"
     ]
    },
    {
     "name": "stderr",
     "output_type": "stream",
     "text": [
      "                                                                                \r"
     ]
    },
    {
     "name": "stdout",
     "output_type": "stream",
     "text": [
      "-------------------------------------------\n",
      "Time: 2023-05-02 13:50:20\n",
      "-------------------------------------------\n",
      "(0, 51)\n",
      "(1, 29)\n",
      "(2, 33)\n",
      "(3, 22)\n",
      "\n"
     ]
    },
    {
     "name": "stderr",
     "output_type": "stream",
     "text": [
      "                                                                                \r"
     ]
    },
    {
     "name": "stdout",
     "output_type": "stream",
     "text": [
      "-------------------------------------------\n",
      "Time: 2023-05-02 13:50:30\n",
      "-------------------------------------------\n",
      "(0, 58)\n",
      "(1, 37)\n",
      "(2, 34)\n",
      "(3, 24)\n",
      "\n"
     ]
    },
    {
     "name": "stderr",
     "output_type": "stream",
     "text": [
      "                                                                                \r"
     ]
    },
    {
     "name": "stdout",
     "output_type": "stream",
     "text": [
      "-------------------------------------------\n",
      "Time: 2023-05-02 13:50:40\n",
      "-------------------------------------------\n",
      "(0, 45)\n",
      "(1, 29)\n",
      "(2, 24)\n",
      "(3, 18)\n",
      "\n"
     ]
    },
    {
     "name": "stderr",
     "output_type": "stream",
     "text": [
      "                                                                                \r"
     ]
    },
    {
     "name": "stdout",
     "output_type": "stream",
     "text": [
      "-------------------------------------------\n",
      "Time: 2023-05-02 13:50:50\n",
      "-------------------------------------------\n",
      "(0, 49)\n",
      "(1, 43)\n",
      "(2, 15)\n",
      "(3, 25)\n",
      "\n"
     ]
    },
    {
     "name": "stderr",
     "output_type": "stream",
     "text": [
      "                                                                                \r"
     ]
    },
    {
     "name": "stdout",
     "output_type": "stream",
     "text": [
      "-------------------------------------------\n",
      "Time: 2023-05-02 13:51:00\n",
      "-------------------------------------------\n",
      "(0, 41)\n",
      "(1, 69)\n",
      "(2, 14)\n",
      "(3, 23)\n",
      "\n"
     ]
    },
    {
     "name": "stderr",
     "output_type": "stream",
     "text": [
      "                                                                                \r"
     ]
    },
    {
     "name": "stdout",
     "output_type": "stream",
     "text": [
      "-------------------------------------------\n",
      "Time: 2023-05-02 13:51:10\n",
      "-------------------------------------------\n",
      "(0, 52)\n",
      "(1, 80)\n",
      "(2, 30)\n",
      "(3, 40)\n",
      "\n"
     ]
    },
    {
     "name": "stderr",
     "output_type": "stream",
     "text": [
      "                                                                                \r"
     ]
    },
    {
     "name": "stdout",
     "output_type": "stream",
     "text": [
      "-------------------------------------------\n",
      "Time: 2023-05-02 13:51:20\n",
      "-------------------------------------------\n",
      "(0, 51)\n",
      "(1, 66)\n",
      "(2, 42)\n",
      "(3, 36)\n",
      "\n"
     ]
    },
    {
     "name": "stderr",
     "output_type": "stream",
     "text": [
      "                                                                                \r"
     ]
    },
    {
     "name": "stdout",
     "output_type": "stream",
     "text": [
      "-------------------------------------------\n",
      "Time: 2023-05-02 13:51:30\n",
      "-------------------------------------------\n",
      "(0, 56)\n",
      "(1, 32)\n",
      "(2, 41)\n",
      "(3, 41)\n",
      "\n"
     ]
    },
    {
     "name": "stderr",
     "output_type": "stream",
     "text": [
      "                                                                                \r"
     ]
    },
    {
     "name": "stdout",
     "output_type": "stream",
     "text": [
      "-------------------------------------------\n",
      "Time: 2023-05-02 13:51:40\n",
      "-------------------------------------------\n",
      "(0, 59)\n",
      "(1, 41)\n",
      "(2, 43)\n",
      "(3, 36)\n",
      "\n"
     ]
    },
    {
     "name": "stderr",
     "output_type": "stream",
     "text": [
      "                                                                                \r"
     ]
    },
    {
     "name": "stdout",
     "output_type": "stream",
     "text": [
      "-------------------------------------------\n",
      "Time: 2023-05-02 13:51:50\n",
      "-------------------------------------------\n",
      "(0, 56)\n",
      "(1, 71)\n",
      "(2, 35)\n",
      "(3, 41)\n",
      "\n"
     ]
    },
    {
     "name": "stderr",
     "output_type": "stream",
     "text": [
      "                                                                                \r"
     ]
    },
    {
     "name": "stdout",
     "output_type": "stream",
     "text": [
      "-------------------------------------------\n",
      "Time: 2023-05-02 13:52:00\n",
      "-------------------------------------------\n",
      "(0, 59)\n",
      "(1, 78)\n",
      "(2, 42)\n",
      "(3, 39)\n",
      "\n"
     ]
    },
    {
     "name": "stderr",
     "output_type": "stream",
     "text": [
      "                                                                                \r"
     ]
    },
    {
     "name": "stdout",
     "output_type": "stream",
     "text": [
      "-------------------------------------------\n",
      "Time: 2023-05-02 13:52:10\n",
      "-------------------------------------------\n",
      "(0, 67)\n",
      "(1, 71)\n",
      "(2, 38)\n",
      "(3, 39)\n",
      "\n"
     ]
    },
    {
     "name": "stderr",
     "output_type": "stream",
     "text": [
      "                                                                                \r"
     ]
    },
    {
     "name": "stdout",
     "output_type": "stream",
     "text": [
      "-------------------------------------------\n",
      "Time: 2023-05-02 13:52:20\n",
      "-------------------------------------------\n",
      "(0, 44)\n",
      "(1, 33)\n",
      "(2, 29)\n",
      "(3, 26)\n",
      "\n"
     ]
    },
    {
     "name": "stderr",
     "output_type": "stream",
     "text": [
      "                                                                                \r"
     ]
    },
    {
     "name": "stdout",
     "output_type": "stream",
     "text": [
      "-------------------------------------------\n",
      "Time: 2023-05-02 13:52:30\n",
      "-------------------------------------------\n",
      "(0, 35)\n",
      "(1, 24)\n",
      "(2, 33)\n",
      "(3, 27)\n",
      "\n"
     ]
    },
    {
     "name": "stderr",
     "output_type": "stream",
     "text": [
      "                                                                                \r"
     ]
    },
    {
     "name": "stdout",
     "output_type": "stream",
     "text": [
      "-------------------------------------------\n",
      "Time: 2023-05-02 13:52:40\n",
      "-------------------------------------------\n",
      "(0, 31)\n",
      "(1, 21)\n",
      "(2, 35)\n",
      "(3, 28)\n",
      "\n"
     ]
    },
    {
     "name": "stderr",
     "output_type": "stream",
     "text": [
      "                                                                                \r"
     ]
    },
    {
     "name": "stdout",
     "output_type": "stream",
     "text": [
      "-------------------------------------------\n",
      "Time: 2023-05-02 13:52:50\n",
      "-------------------------------------------\n",
      "(0, 44)\n",
      "(1, 38)\n",
      "(2, 50)\n",
      "(3, 43)\n",
      "\n"
     ]
    },
    {
     "name": "stderr",
     "output_type": "stream",
     "text": [
      "                                                                                \r"
     ]
    },
    {
     "name": "stdout",
     "output_type": "stream",
     "text": [
      "-------------------------------------------\n",
      "Time: 2023-05-02 13:53:00\n",
      "-------------------------------------------\n",
      "(0, 51)\n",
      "(1, 62)\n",
      "(2, 39)\n",
      "(3, 47)\n",
      "\n"
     ]
    },
    {
     "name": "stderr",
     "output_type": "stream",
     "text": [
      "                                                                                \r"
     ]
    },
    {
     "name": "stdout",
     "output_type": "stream",
     "text": [
      "-------------------------------------------\n",
      "Time: 2023-05-02 13:53:10\n",
      "-------------------------------------------\n",
      "(0, 50)\n",
      "(1, 61)\n",
      "(2, 32)\n",
      "(3, 46)\n",
      "\n"
     ]
    },
    {
     "name": "stderr",
     "output_type": "stream",
     "text": [
      "                                                                                \r"
     ]
    },
    {
     "name": "stdout",
     "output_type": "stream",
     "text": [
      "-------------------------------------------\n",
      "Time: 2023-05-02 13:53:20\n",
      "-------------------------------------------\n",
      "(0, 52)\n",
      "(1, 59)\n",
      "(2, 41)\n",
      "(3, 48)\n",
      "\n"
     ]
    },
    {
     "name": "stderr",
     "output_type": "stream",
     "text": [
      "                                                                                \r"
     ]
    },
    {
     "name": "stdout",
     "output_type": "stream",
     "text": [
      "-------------------------------------------\n",
      "Time: 2023-05-02 13:53:30\n",
      "-------------------------------------------\n",
      "(0, 47)\n",
      "(1, 38)\n",
      "(2, 45)\n",
      "(3, 46)\n",
      "\n"
     ]
    },
    {
     "name": "stderr",
     "output_type": "stream",
     "text": [
      "                                                                                \r"
     ]
    },
    {
     "name": "stdout",
     "output_type": "stream",
     "text": [
      "-------------------------------------------\n",
      "Time: 2023-05-02 13:53:40\n",
      "-------------------------------------------\n",
      "(0, 45)\n",
      "(1, 44)\n",
      "(2, 42)\n",
      "(3, 43)\n",
      "\n"
     ]
    },
    {
     "name": "stderr",
     "output_type": "stream",
     "text": [
      "                                                                                \r"
     ]
    },
    {
     "name": "stdout",
     "output_type": "stream",
     "text": [
      "-------------------------------------------\n",
      "Time: 2023-05-02 13:53:50\n",
      "-------------------------------------------\n",
      "(0, 34)\n",
      "(1, 35)\n",
      "(2, 18)\n",
      "(3, 28)\n",
      "\n"
     ]
    },
    {
     "name": "stderr",
     "output_type": "stream",
     "text": [
      "                                                                                \r"
     ]
    },
    {
     "name": "stdout",
     "output_type": "stream",
     "text": [
      "-------------------------------------------\n",
      "Time: 2023-05-02 13:54:00\n",
      "-------------------------------------------\n",
      "(0, 34)\n",
      "(1, 62)\n",
      "(2, 18)\n",
      "(3, 21)\n",
      "\n"
     ]
    },
    {
     "name": "stderr",
     "output_type": "stream",
     "text": [
      "                                                                                \r"
     ]
    },
    {
     "name": "stdout",
     "output_type": "stream",
     "text": [
      "-------------------------------------------\n",
      "Time: 2023-05-02 13:54:10\n",
      "-------------------------------------------\n",
      "(0, 32)\n",
      "(1, 60)\n",
      "(2, 22)\n",
      "(3, 21)\n",
      "\n"
     ]
    },
    {
     "name": "stderr",
     "output_type": "stream",
     "text": [
      "                                                                                \r"
     ]
    },
    {
     "name": "stdout",
     "output_type": "stream",
     "text": [
      "-------------------------------------------\n",
      "Time: 2023-05-02 13:54:20\n",
      "-------------------------------------------\n",
      "(0, 36)\n",
      "(1, 67)\n",
      "(2, 33)\n",
      "(3, 32)\n",
      "\n"
     ]
    },
    {
     "name": "stderr",
     "output_type": "stream",
     "text": [
      "                                                                                \r"
     ]
    },
    {
     "name": "stdout",
     "output_type": "stream",
     "text": [
      "-------------------------------------------\n",
      "Time: 2023-05-02 13:54:30\n",
      "-------------------------------------------\n",
      "(0, 39)\n",
      "(1, 35)\n",
      "(2, 38)\n",
      "(3, 31)\n",
      "\n"
     ]
    },
    {
     "name": "stderr",
     "output_type": "stream",
     "text": [
      "                                                                                \r"
     ]
    },
    {
     "name": "stdout",
     "output_type": "stream",
     "text": [
      "-------------------------------------------\n",
      "Time: 2023-05-02 13:54:40\n",
      "-------------------------------------------\n",
      "(0, 45)\n",
      "(1, 38)\n",
      "(2, 35)\n",
      "(3, 36)\n",
      "\n"
     ]
    },
    {
     "name": "stderr",
     "output_type": "stream",
     "text": [
      "                                                                                \r"
     ]
    },
    {
     "name": "stdout",
     "output_type": "stream",
     "text": [
      "-------------------------------------------\n",
      "Time: 2023-05-02 13:54:50\n",
      "-------------------------------------------\n",
      "(0, 53)\n",
      "(1, 66)\n",
      "(2, 33)\n",
      "(3, 32)\n",
      "\n"
     ]
    },
    {
     "name": "stderr",
     "output_type": "stream",
     "text": [
      "                                                                                \r"
     ]
    },
    {
     "name": "stdout",
     "output_type": "stream",
     "text": [
      "-------------------------------------------\n",
      "Time: 2023-05-02 13:55:00\n",
      "-------------------------------------------\n",
      "(0, 47)\n",
      "(1, 64)\n",
      "(2, 22)\n",
      "(3, 35)\n",
      "\n"
     ]
    },
    {
     "name": "stderr",
     "output_type": "stream",
     "text": [
      "                                                                                \r"
     ]
    },
    {
     "name": "stdout",
     "output_type": "stream",
     "text": [
      "-------------------------------------------\n",
      "Time: 2023-05-02 13:55:10\n",
      "-------------------------------------------\n",
      "(0, 44)\n",
      "(1, 54)\n",
      "(2, 23)\n",
      "(3, 30)\n",
      "\n"
     ]
    },
    {
     "name": "stderr",
     "output_type": "stream",
     "text": [
      "                                                                                \r"
     ]
    },
    {
     "name": "stdout",
     "output_type": "stream",
     "text": [
      "-------------------------------------------\n",
      "Time: 2023-05-02 13:55:20\n",
      "-------------------------------------------\n",
      "(0, 38)\n",
      "(1, 30)\n",
      "(2, 24)\n",
      "(3, 30)\n",
      "\n"
     ]
    },
    {
     "name": "stderr",
     "output_type": "stream",
     "text": [
      "                                                                                \r"
     ]
    },
    {
     "name": "stdout",
     "output_type": "stream",
     "text": [
      "-------------------------------------------\n",
      "Time: 2023-05-02 13:55:30\n",
      "-------------------------------------------\n",
      "(0, 39)\n",
      "(1, 33)\n",
      "(2, 27)\n",
      "(3, 36)\n",
      "\n"
     ]
    },
    {
     "name": "stderr",
     "output_type": "stream",
     "text": [
      "ERROR:root:KeyboardInterrupt while sending command.==========>      (3 + 2) / 5]\n",
      "Traceback (most recent call last):\n",
      "  File \"/home/maxime/Scientific_Programming/testvenv/lib/python3.8/site-packages/py4j/java_gateway.py\", line 1038, in send_command\n",
      "    response = connection.send_command(command)\n",
      "  File \"/home/maxime/Scientific_Programming/testvenv/lib/python3.8/site-packages/py4j/clientserver.py\", line 511, in send_command\n",
      "    answer = smart_decode(self.stream.readline()[:-1])\n",
      "  File \"/usr/lib/python3.8/socket.py\", line 669, in readinto\n",
      "    return self._sock.recv_into(b)\n",
      "KeyboardInterrupt\n",
      "[Stage 0:>                  (0 + 1) / 1][Stage 932:======>          (2 + 3) / 5]\r"
     ]
    },
    {
     "ename": "KeyboardInterrupt",
     "evalue": "",
     "output_type": "error",
     "traceback": [
      "\u001b[0;31m---------------------------------------------------------------------------\u001b[0m",
      "\u001b[0;31mKeyboardInterrupt\u001b[0m                         Traceback (most recent call last)",
      "Cell \u001b[0;32mIn[12], line 2\u001b[0m\n\u001b[1;32m      1\u001b[0m ssc\u001b[39m.\u001b[39mstart()\n\u001b[0;32m----> 2\u001b[0m ssc\u001b[39m.\u001b[39;49mawaitTermination()\n",
      "File \u001b[0;32m~/Scientific_Programming/testvenv/lib/python3.8/site-packages/pyspark/streaming/context.py:239\u001b[0m, in \u001b[0;36mStreamingContext.awaitTermination\u001b[0;34m(self, timeout)\u001b[0m\n\u001b[1;32m    230\u001b[0m \u001b[39m\u001b[39m\u001b[39m\"\"\"\u001b[39;00m\n\u001b[1;32m    231\u001b[0m \u001b[39mWait for the execution to stop.\u001b[39;00m\n\u001b[1;32m    232\u001b[0m \n\u001b[0;32m   (...)\u001b[0m\n\u001b[1;32m    236\u001b[0m \u001b[39m    time to wait in seconds\u001b[39;00m\n\u001b[1;32m    237\u001b[0m \u001b[39m\"\"\"\u001b[39;00m\n\u001b[1;32m    238\u001b[0m \u001b[39mif\u001b[39;00m timeout \u001b[39mis\u001b[39;00m \u001b[39mNone\u001b[39;00m:\n\u001b[0;32m--> 239\u001b[0m     \u001b[39mself\u001b[39;49m\u001b[39m.\u001b[39;49m_jssc\u001b[39m.\u001b[39;49mawaitTermination()\n\u001b[1;32m    240\u001b[0m \u001b[39melse\u001b[39;00m:\n\u001b[1;32m    241\u001b[0m     \u001b[39mself\u001b[39m\u001b[39m.\u001b[39m_jssc\u001b[39m.\u001b[39mawaitTerminationOrTimeout(\u001b[39mint\u001b[39m(timeout \u001b[39m*\u001b[39m \u001b[39m1000\u001b[39m))\n",
      "File \u001b[0;32m~/Scientific_Programming/testvenv/lib/python3.8/site-packages/py4j/java_gateway.py:1321\u001b[0m, in \u001b[0;36mJavaMember.__call__\u001b[0;34m(self, *args)\u001b[0m\n\u001b[1;32m   1314\u001b[0m args_command, temp_args \u001b[39m=\u001b[39m \u001b[39mself\u001b[39m\u001b[39m.\u001b[39m_build_args(\u001b[39m*\u001b[39margs)\n\u001b[1;32m   1316\u001b[0m command \u001b[39m=\u001b[39m proto\u001b[39m.\u001b[39mCALL_COMMAND_NAME \u001b[39m+\u001b[39m\\\n\u001b[1;32m   1317\u001b[0m     \u001b[39mself\u001b[39m\u001b[39m.\u001b[39mcommand_header \u001b[39m+\u001b[39m\\\n\u001b[1;32m   1318\u001b[0m     args_command \u001b[39m+\u001b[39m\\\n\u001b[1;32m   1319\u001b[0m     proto\u001b[39m.\u001b[39mEND_COMMAND_PART\n\u001b[0;32m-> 1321\u001b[0m answer \u001b[39m=\u001b[39m \u001b[39mself\u001b[39;49m\u001b[39m.\u001b[39;49mgateway_client\u001b[39m.\u001b[39;49msend_command(command)\n\u001b[1;32m   1322\u001b[0m return_value \u001b[39m=\u001b[39m get_return_value(\n\u001b[1;32m   1323\u001b[0m     answer, \u001b[39mself\u001b[39m\u001b[39m.\u001b[39mgateway_client, \u001b[39mself\u001b[39m\u001b[39m.\u001b[39mtarget_id, \u001b[39mself\u001b[39m\u001b[39m.\u001b[39mname)\n\u001b[1;32m   1325\u001b[0m \u001b[39mfor\u001b[39;00m temp_arg \u001b[39min\u001b[39;00m temp_args:\n",
      "File \u001b[0;32m~/Scientific_Programming/testvenv/lib/python3.8/site-packages/py4j/java_gateway.py:1038\u001b[0m, in \u001b[0;36mGatewayClient.send_command\u001b[0;34m(self, command, retry, binary)\u001b[0m\n\u001b[1;32m   1036\u001b[0m connection \u001b[39m=\u001b[39m \u001b[39mself\u001b[39m\u001b[39m.\u001b[39m_get_connection()\n\u001b[1;32m   1037\u001b[0m \u001b[39mtry\u001b[39;00m:\n\u001b[0;32m-> 1038\u001b[0m     response \u001b[39m=\u001b[39m connection\u001b[39m.\u001b[39;49msend_command(command)\n\u001b[1;32m   1039\u001b[0m     \u001b[39mif\u001b[39;00m binary:\n\u001b[1;32m   1040\u001b[0m         \u001b[39mreturn\u001b[39;00m response, \u001b[39mself\u001b[39m\u001b[39m.\u001b[39m_create_connection_guard(connection)\n",
      "File \u001b[0;32m~/Scientific_Programming/testvenv/lib/python3.8/site-packages/py4j/clientserver.py:511\u001b[0m, in \u001b[0;36mClientServerConnection.send_command\u001b[0;34m(self, command)\u001b[0m\n\u001b[1;32m    509\u001b[0m \u001b[39mtry\u001b[39;00m:\n\u001b[1;32m    510\u001b[0m     \u001b[39mwhile\u001b[39;00m \u001b[39mTrue\u001b[39;00m:\n\u001b[0;32m--> 511\u001b[0m         answer \u001b[39m=\u001b[39m smart_decode(\u001b[39mself\u001b[39;49m\u001b[39m.\u001b[39;49mstream\u001b[39m.\u001b[39;49mreadline()[:\u001b[39m-\u001b[39m\u001b[39m1\u001b[39m])\n\u001b[1;32m    512\u001b[0m         logger\u001b[39m.\u001b[39mdebug(\u001b[39m\"\u001b[39m\u001b[39mAnswer received: \u001b[39m\u001b[39m{0}\u001b[39;00m\u001b[39m\"\u001b[39m\u001b[39m.\u001b[39mformat(answer))\n\u001b[1;32m    513\u001b[0m         \u001b[39m# Happens when a the other end is dead. There might be an empty\u001b[39;00m\n\u001b[1;32m    514\u001b[0m         \u001b[39m# answer before the socket raises an error.\u001b[39;00m\n",
      "File \u001b[0;32m/usr/lib/python3.8/socket.py:669\u001b[0m, in \u001b[0;36mSocketIO.readinto\u001b[0;34m(self, b)\u001b[0m\n\u001b[1;32m    667\u001b[0m \u001b[39mwhile\u001b[39;00m \u001b[39mTrue\u001b[39;00m:\n\u001b[1;32m    668\u001b[0m     \u001b[39mtry\u001b[39;00m:\n\u001b[0;32m--> 669\u001b[0m         \u001b[39mreturn\u001b[39;00m \u001b[39mself\u001b[39;49m\u001b[39m.\u001b[39;49m_sock\u001b[39m.\u001b[39;49mrecv_into(b)\n\u001b[1;32m    670\u001b[0m     \u001b[39mexcept\u001b[39;00m timeout:\n\u001b[1;32m    671\u001b[0m         \u001b[39mself\u001b[39m\u001b[39m.\u001b[39m_timeout_occurred \u001b[39m=\u001b[39m \u001b[39mTrue\u001b[39;00m\n",
      "\u001b[0;31mKeyboardInterrupt\u001b[0m: "
     ]
    },
    {
     "name": "stderr",
     "output_type": "stream",
     "text": [
      "                                                                                \r"
     ]
    }
   ],
   "source": [
    "ssc.start()\n",
    "ssc.awaitTermination()"
   ]
  },
  {
   "cell_type": "code",
   "execution_count": null,
   "metadata": {},
   "outputs": [],
   "source": []
  },
  {
   "cell_type": "code",
   "execution_count": 15,
   "metadata": {},
   "outputs": [],
   "source": [
    "ssc.stop(stopSparkContext=True, stopGraceFully=True)"
   ]
  },
  {
   "cell_type": "code",
   "execution_count": null,
   "metadata": {},
   "outputs": [],
   "source": []
  },
  {
   "cell_type": "code",
   "execution_count": null,
   "metadata": {},
   "outputs": [],
   "source": []
  },
  {
   "cell_type": "code",
   "execution_count": null,
   "metadata": {},
   "outputs": [],
   "source": []
  },
  {
   "cell_type": "code",
   "execution_count": null,
   "metadata": {},
   "outputs": [],
   "source": []
  },
  {
   "cell_type": "code",
   "execution_count": null,
   "metadata": {},
   "outputs": [],
   "source": []
  },
  {
   "cell_type": "code",
   "execution_count": null,
   "metadata": {},
   "outputs": [],
   "source": []
  },
  {
   "cell_type": "code",
   "execution_count": null,
   "metadata": {},
   "outputs": [],
   "source": [
    "# # create a label encoder object\n",
    "# le = LabelEncoder()\n",
    "# # fit the encoder to the pandas column\n",
    "# le.fit(submissions.map(lambda x: x['subreddit_name']).collect())\n",
    "# # apply the fitted encoder to the pandas column\n",
    "# submissions = submissions.map(lambda x: (le.transform([x['subreddit_name']])[0], x['title_polarity'], x['title_subjectivity'], x['text_polarity'], x['text_subjectivity']))\n",
    "# training_data = submissions.map(lambda x: Vectors.dense([x[1], x[2], x[3], x[4]]))\n"
   ]
  },
  {
   "cell_type": "code",
   "execution_count": null,
   "metadata": {},
   "outputs": [],
   "source": [
    "\n",
    "\n",
    "\n",
    "\n",
    "\n",
    "# def get_sentiment_label(text):\n",
    "#     blob = TextBlob(text)\n",
    "#     if blob.sentiment.polarity > 0:\n",
    "#         return \"positive\"\n",
    "#     elif blob.sentiment.polarity < 0:\n",
    "#         return \"negative\"\n",
    "#     else:\n",
    "#         return \"neutral\"\n"
   ]
  },
  {
   "cell_type": "code",
   "execution_count": null,
   "metadata": {},
   "outputs": [],
   "source": [
    "# class RedditAPIClient:\n",
    "#     def __init__(self, host, port):\n",
    "#         self.host = host\n",
    "#         self.port = port\n",
    "#         self.sock = socket.socket(socket.AF_INET, socket.SOCK_STREAM)\n",
    "\n",
    "#     def connect(self):\n",
    "#         self.sock.connect((self.host, self.port))\n",
    "\n",
    "#     def disconnect(self):\n",
    "#         self.sock.close()\n",
    "\n",
    "#     def process_data(self, data):\n",
    "#         # Parse the JSON data received from the server\n",
    "#         message = json.loads(data)['message']\n",
    "#         metadata = json.loads(data)['metadata']\n",
    "\n",
    "#         # Perform sentiment analysis on the message using TextBlob\n",
    "#         blob = TextBlob(message)\n",
    "#         sentiment = blob.sentiment.polarity\n",
    "\n",
    "#         # Return the metadata and sentiment score as a tuple\n",
    "#         return (metadata, sentiment)\n",
    "\n",
    "#     def run_spark(self):\n",
    "#         # Configure Spark\n",
    "#         conf = SparkConf().setAppName(\"Reddit Sentiment Analysis\")\n",
    "#         sc = SparkContext(conf=conf)\n",
    "\n",
    "#         # Create a DStream from the socket\n",
    "#         dstream = sc.socketTextStream(self.host, self.port)\n",
    "\n",
    "#         # Process the data stream using Spark and TextBlob\n",
    "#         results = dstream.map(self.process_data).filter(lambda x: x[1] != 0)\n",
    "\n",
    "#         # Print the results\n",
    "#         results.pprint()\n",
    "\n",
    "#         # Start the streaming context\n",
    "#         sc.start()\n",
    "#         sc.awaitTermination()\n",
    "\n",
    "\n",
    "# if __name__ == '__main__':\n",
    "#     # Initialize the client\n",
    "#     client = RedditAPIClient('localhost', 12345)\n",
    "\n",
    "#     # Connect to the server\n",
    "#     client.connect()\n",
    "\n",
    "#     # Run Spark on the data stream\n",
    "#     client.run_spark()\n",
    "\n",
    "#     # Disconnect from the server\n",
    "#     client.disconnect()\n"
   ]
  }
 ],
 "metadata": {
  "kernelspec": {
   "display_name": "base",
   "language": "python",
   "name": "python3"
  },
  "language_info": {
   "codemirror_mode": {
    "name": "ipython",
    "version": 3
   },
   "file_extension": ".py",
   "mimetype": "text/x-python",
   "name": "python",
   "nbconvert_exporter": "python",
   "pygments_lexer": "ipython3",
   "version": "3.8.10"
  },
  "orig_nbformat": 4
 },
 "nbformat": 4,
 "nbformat_minor": 2
}
