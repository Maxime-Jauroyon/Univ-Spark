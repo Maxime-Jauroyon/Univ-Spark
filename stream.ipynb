{
 "cells": [
  {
   "attachments": {},
   "cell_type": "markdown",
   "metadata": {},
   "source": [
    "### Install requirements"
   ]
  },
  {
   "cell_type": "code",
   "execution_count": null,
   "metadata": {},
   "outputs": [],
   "source": [
    "# ! pip install praw"
   ]
  },
  {
   "attachments": {},
   "cell_type": "markdown",
   "metadata": {},
   "source": [
    "### Import libraries"
   ]
  },
  {
   "cell_type": "code",
   "execution_count": null,
   "metadata": {},
   "outputs": [],
   "source": [
    "import praw\n",
    "import socket\n",
    "import threading\n",
    "import json"
   ]
  },
  {
   "attachments": {},
   "cell_type": "markdown",
   "metadata": {},
   "source": [
    "### Server configuration"
   ]
  },
  {
   "cell_type": "code",
   "execution_count": null,
   "metadata": {},
   "outputs": [],
   "source": [
    "class RedditAPIServer:\n",
    "    def __init__(self, client_id, client_secret, user_agent, subreddit_name, host='localhost', port=9999):\n",
    "        self.client_id = client_id\n",
    "        self.client_secret = client_secret\n",
    "        self.user_agent = user_agent\n",
    "        self.subreddit_name = subreddit_name\n",
    "        self.host = host\n",
    "        self.port = port\n",
    "        self.clients = []\n",
    "        self.lock = threading.Lock()\n",
    "        self.reddit = None\n",
    "        self.server_sock = None\n",
    "\n",
    "    def start(self):\n",
    "        self._initialize_client()\n",
    "        self._create_server_socket()\n",
    "        self._start_streaming_thread()\n",
    "        self._accept_clients()\n",
    "\n",
    "    def _initialize_client(self):\n",
    "        self.reddit = praw.Reddit(\n",
    "            client_id=self.client_id,\n",
    "            client_secret=self.client_secret,\n",
    "            user_agent=self.user_agent\n",
    "        )\n",
    "\n",
    "    def _create_server_socket(self):\n",
    "        self.server_sock = socket.socket(socket.AF_INET, socket.SOCK_STREAM)\n",
    "        self.server_sock.bind((self.host, self.port))\n",
    "        self.server_sock.listen()\n",
    "        print(f'Server listening on {self.host}:{self.port}')\n",
    "\n",
    "    def _start_streaming_thread(self):\n",
    "        stream_thread = threading.Thread(target=self._stream_data)\n",
    "        stream_thread.start()\n",
    "\n",
    "    def _accept_clients(self):\n",
    "        while True:\n",
    "            client_sock, client_addr = self.server_sock.accept()\n",
    "            client_thread = threading.Thread(\n",
    "                target=self._handle_client, args=(client_sock, client_addr))\n",
    "            client_thread.start()\n",
    "\n",
    "    def stop(self):\n",
    "        self.server_sock.close()\n",
    "        self._disconnect_clients()\n",
    "\n",
    "    def _disconnect_clients(self):\n",
    "        for client in self.clients:\n",
    "            client[0].close()\n",
    "        self.clients = []\n",
    "\n",
    "    def _stream_data(self):\n",
    "        for submission in self.reddit.subreddit(self.subreddit_name).stream.submissions():\n",
    "            message, metadata = self._get_submission_data(submission)\n",
    "            data = {\n",
    "                'message': message,\n",
    "                'metadata': metadata\n",
    "            }\n",
    "            disconnected_clients = []\n",
    "            self.lock.acquire()\n",
    "            for client in self.clients:\n",
    "                try:\n",
    "                    self._send_data_to_client(client[0], data)\n",
    "                except (socket.error, OSError):\n",
    "                    print(f'Client disconnected: {client[1]}')\n",
    "                    disconnected_clients.append(client)\n",
    "            for client in disconnected_clients:\n",
    "                self.clients.remove(client)\n",
    "            self.lock.release()\n",
    "\n",
    "    def _get_submission_data(self, submission):\n",
    "        message = submission.title\n",
    "        metadata = {\n",
    "            'author_name': submission.author.name if submission.author else None,\n",
    "            'date': submission.created_utc,\n",
    "            'score': submission.score,\n",
    "            'num_comments': submission.num_comments,\n",
    "            'upvote_ratio': submission.upvote_ratio,\n",
    "            'text': submission.selftext if submission.selftext else '',\n",
    "            'subreddit_name': submission.subreddit.display_name if submission.subreddit else ''\n",
    "        }\n",
    "        return message, metadata\n",
    "\n",
    "    def _send_data_to_client(self, client_sock, data):\n",
    "        client_sock.getpeername()\n",
    "        client_sock.sendall((json.dumps(data)+\"\\n\").encode('utf-8'))\n",
    "\n",
    "    def _handle_client(self, client_sock, client_addr):\n",
    "        print(f'New client connected: {client_addr}')\n",
    "        self.lock.acquire()\n",
    "        self.clients.append((client_sock, client_addr))\n",
    "        self.lock.release()\n",
    "\n",
    "        try:\n",
    "            while True:\n",
    "                data = client_sock.recv(1024)\n",
    "                if not data:\n",
    "                    break\n",
    "        except socket.error:\n",
    "            pass\n",
    "        finally:\n",
    "            print(f'Client disconnected: {client_addr}')\n",
    "            self.lock.acquire()\n",
    "            self.clients.remove((client_sock, client_addr))\n",
    "            client_sock.close()\n",
    "            self.lock\n"
   ]
  },
  {
   "attachments": {},
   "cell_type": "markdown",
   "metadata": {},
   "source": [
    "### Run the server"
   ]
  },
  {
   "cell_type": "code",
   "execution_count": null,
   "metadata": {},
   "outputs": [],
   "source": [
    "CLIENT_ID = 't4ulpW-K0wmu6DCi5FuOIA'\n",
    "CLIENT_SECRET = 'mJaM8HtkAsG8xJf9OrGep6bxQjfuhQ'\n",
    "USER_AGENT = 'macos:my-reddit-streaming-sentiment-analysis-app:v1.0'\n",
    "SUBREDDIT_NAME = 'all'\n",
    "\n",
    "server = RedditAPIServer(CLIENT_ID, CLIENT_SECRET, USER_AGENT, SUBREDDIT_NAME)\n",
    "server.start()\n"
   ]
  }
 ],
 "metadata": {
  "kernelspec": {
   "display_name": "base",
   "language": "python",
   "name": "python3"
  },
  "language_info": {
   "codemirror_mode": {
    "name": "ipython",
    "version": 3
   },
   "file_extension": ".py",
   "mimetype": "text/x-python",
   "name": "python",
   "nbconvert_exporter": "python",
   "pygments_lexer": "ipython3",
   "version": "3.8.10"
  },
  "orig_nbformat": 4
 },
 "nbformat": 4,
 "nbformat_minor": 2
}
