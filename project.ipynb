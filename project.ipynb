{
 "cells": [
  {
   "attachments": {},
   "cell_type": "markdown",
   "metadata": {},
   "source": [
    "Spark project"
   ]
  },
  {
   "cell_type": "code",
   "execution_count": 1,
   "metadata": {},
   "outputs": [],
   "source": [
    "# !pip install praw\n",
    "# !pip install textblob\n",
    "# !pip install pyspark"
   ]
  },
  {
   "cell_type": "code",
   "execution_count": 2,
   "metadata": {},
   "outputs": [],
   "source": [
    "from pyspark import SparkContext\n",
    "from pyspark.streaming import StreamingContext\n",
    "from textblob import TextBlob"
   ]
  },
  {
   "cell_type": "code",
   "execution_count": 3,
   "metadata": {},
   "outputs": [
    {
     "name": "stderr",
     "output_type": "stream",
     "text": [
      "your 131072x1 screen size is bogus. expect trouble\n",
      "23/04/24 14:55:49 WARN Utils: Your hostname, DESKTOP-CBR75GN resolves to a loopback address: 127.0.1.1; using 172.21.25.76 instead (on interface eth0)\n",
      "23/04/24 14:55:50 WARN Utils: Set SPARK_LOCAL_IP if you need to bind to another address\n",
      "Setting default log level to \"WARN\".\n",
      "To adjust logging level use sc.setLogLevel(newLevel). For SparkR, use setLogLevel(newLevel).\n",
      "23/04/24 14:55:53 WARN NativeCodeLoader: Unable to load native-hadoop library for your platform... using builtin-java classes where applicable\n"
     ]
    }
   ],
   "source": [
    "# Create a SparkContext\n",
    "sc = SparkContext(appName=\"RedditStreamingSentimentAnalysis\")"
   ]
  },
  {
   "cell_type": "code",
   "execution_count": 4,
   "metadata": {},
   "outputs": [],
   "source": [
    "sc.setLogLevel(\"ERROR\")"
   ]
  },
  {
   "cell_type": "code",
   "execution_count": 5,
   "metadata": {},
   "outputs": [
    {
     "name": "stderr",
     "output_type": "stream",
     "text": [
      "/home/maxime/Scientific_Programming/testvenv/lib/python3.8/site-packages/pyspark/streaming/context.py:72: FutureWarning: DStream is deprecated as of Spark 3.4.0. Migrate to Structured Streaming.\n",
      "  warnings.warn(\n"
     ]
    }
   ],
   "source": [
    "# Create a StreamingContext with a batch interval of 10 seconds\n",
    "ssc = StreamingContext(sc, 1)"
   ]
  },
  {
   "cell_type": "code",
   "execution_count": 6,
   "metadata": {},
   "outputs": [],
   "source": [
    "# Create a DStream from the socket\n",
    "dstream = ssc.socketTextStream(\"localhost\", 8888)"
   ]
  },
  {
   "cell_type": "code",
   "execution_count": 7,
   "metadata": {},
   "outputs": [],
   "source": [
    "\n",
    "# Define a function to perform sentiment analysis on each message\n",
    "def analyze_sentiment(message):\n",
    "    blob = TextBlob(message)\n",
    "    polarity = blob.sentiment.polarity\n",
    "    subjectivity = blob.sentiment.subjectivity\n",
    "    if polarity > 0:\n",
    "        sentiment = \"positive\"\n",
    "    elif polarity < 0:\n",
    "        sentiment = \"negative\"\n",
    "    else:\n",
    "        sentiment = \"neutral\"\n",
    "    return (message,sentiment)\n",
    "    # return (sentiment,1)"
   ]
  },
  {
   "cell_type": "code",
   "execution_count": 8,
   "metadata": {},
   "outputs": [],
   "source": [
    "# Apply the sentiment analysis function to each message in the DStream\n",
    "tagged_dstream = dstream.filter(lambda line: len(line) > 0)\\\n",
    "                        .map(lambda message: analyze_sentiment(message))\\\n",
    "                        # .reduceByKey(lambda a, b: a + b)\n",
    "# .flatMap(lambda line: line.split(\" \"))\\\n",
    "# .map(lambda line: line.split(\"|\"))\\\n",
    "\n",
    "# Print the results\n",
    "tagged_dstream.pprint()\n"
   ]
  },
  {
   "cell_type": "code",
   "execution_count": 9,
   "metadata": {},
   "outputs": [],
   "source": [
    "# # For debugging purposes (to check if we receive correctly the data)\n",
    "# counts = dstream.flatMap(lambda line: line.split(\" \"))\\\n",
    "#                 .filter(lambda word: len(word) > 0)\\\n",
    "#                 .map(lambda word: (word, 1))\\\n",
    "#                 .reduceByKey(lambda a, b: a + b)\n",
    "# counts.pprint()"
   ]
  },
  {
   "cell_type": "code",
   "execution_count": 10,
   "metadata": {},
   "outputs": [
    {
     "name": "stdout",
     "output_type": "stream",
     "text": [
      "-------------------------------------------\n",
      "Time: 2023-04-24 14:56:00\n",
      "-------------------------------------------\n",
      "\n"
     ]
    },
    {
     "name": "stderr",
     "output_type": "stream",
     "text": [
      "[Stage 0:>                                                          (0 + 1) / 1]\r"
     ]
    },
    {
     "name": "stdout",
     "output_type": "stream",
     "text": [
      "-------------------------------------------\n",
      "Time: 2023-04-24 14:56:01\n",
      "-------------------------------------------\n",
      "\n",
      "-------------------------------------------\n",
      "Time: 2023-04-24 14:56:02\n",
      "-------------------------------------------\n",
      "\n",
      "-------------------------------------------\n",
      "Time: 2023-04-24 14:56:03\n",
      "-------------------------------------------\n",
      "\n",
      "-------------------------------------------\n",
      "Time: 2023-04-24 14:56:04\n",
      "-------------------------------------------\n",
      "\n"
     ]
    },
    {
     "name": "stderr",
     "output_type": "stream",
     "text": [
      "                                                                                \r"
     ]
    },
    {
     "name": "stdout",
     "output_type": "stream",
     "text": [
      "-------------------------------------------\n",
      "Time: 2023-04-24 14:56:05\n",
      "-------------------------------------------\n",
      "('We\\'re a month away from posts using ChatGPT to print \"Hello World\" in python', 'neutral')\n",
      "(\"Good god, I think we've had enough beginner showcase posts of someone just inserting ChatGPT into some random python functions. \", 'positive')\n",
      "('\"Python function for reading CSV files.... with ChatGPT\"', 'neutral')\n",
      "('\"A Python library that converts video files.... with ChatGPT\"', 'neutral')\n",
      "('\"A Python meta-parsing language interpreter that flips pancakes in an artificial reality virtual polyphonic soundscape.... with ChatGPT\"', 'negative')\n",
      "('There are also enough trolls on reddit already but you’re still welcome here.', 'positive')\n",
      "('He used chatgpt to help him develop it, it is not a calculator that uses chatgpt, you spent more time typing out this trolling comment then you did looking at the post.', 'positive')\n",
      "(\"If you're not interested in Beginner Showcases why even click on this post other than to troll?\", 'negative')\n",
      "('How is it trolling? You can look through this sub and see what I said is true.', 'positive')\n",
      "('Based on what you said, you clearly did not read the post or look at the code, then said something stupid to try to make me mad, that’s called trolling.', 'negative')\n",
      "...\n",
      "\n",
      "-------------------------------------------\n",
      "Time: 2023-04-24 14:56:06\n",
      "-------------------------------------------\n",
      "('Super cool concept.', 'positive')\n",
      "('I have some terribly hacky shell overrides for `cd` that do something similar. Does this handle subdirectories correctly, or will navigating subfolders of my project deactivate the environment?', 'negative')\n",
      "('so what’s the difference between this and pyenv-virtualenv?', 'neutral')\n",
      "('Oh-my-zsh. Just saying.', 'neutral')\n",
      "('I thought this is done automatically usimg `pipenv` or am I missing something?', 'negative')\n",
      "('For some of my projects I use [zsh-autoenv](https://github.com/Tarrasch/zsh-autoenv) for this.', 'neutral')\n",
      "(\"Since I'm using my own zpy for managing venvs, the autoenv files look like:\", 'positive')\n",
      "('`.autoenv.zsh`:', 'neutral')\n",
      "('    a8 ${0:h}', 'neutral')\n",
      "('`.autoenv_leave.zsh`:', 'neutral')\n",
      "...\n",
      "\n",
      "-------------------------------------------\n",
      "Time: 2023-04-24 14:56:07\n",
      "-------------------------------------------\n",
      "\n",
      "-------------------------------------------\n",
      "Time: 2023-04-24 14:56:08\n",
      "-------------------------------------------\n",
      "\n",
      "-------------------------------------------\n",
      "Time: 2023-04-24 14:56:09\n",
      "-------------------------------------------\n",
      "\n"
     ]
    },
    {
     "name": "stderr",
     "output_type": "stream",
     "text": [
      "                                                                                \r"
     ]
    },
    {
     "name": "stdout",
     "output_type": "stream",
     "text": [
      "-------------------------------------------\n",
      "Time: 2023-04-24 14:56:10\n",
      "-------------------------------------------\n",
      "('Maybe my Seaborn and Matplotlib skills suck, but I really do like how easy it is to make nice looking and interactive graphs in ChartJS.', 'positive')\n",
      "(\"A couple thoughts: typed Python doesn't suffer from the billion dollar mistake, since the None singleton doesn't inhabit reference types. And the other, sum types in Python, especially unions of whatever and None, are pretty powerful already. They don't support methods like map and flatmap but since lambdas are kind of awkward in Python anyway it's not a big deal, they just need to be handled in a different way (say, with match).\", 'positive')\n",
      "('As for your question: serde, which is why I wrote cattrs.', 'neutral')\n",
      "('tidyverse', 'neutral')\n",
      "(\"NodeJS' PDFMake. Right now, there's not really any good PDF renderers for Python that are both easy to work with and FOSS. I looked into Borb, but you need a license for commercial use, and nobody responded to me when I reached out. Plus, PDFMake's structuring of PDF docs as JSONs makes a lot of intuitive sense to me.\", 'positive')\n",
      "(\"I'm not entirely sure what Pythonic means either. Sometimes brevity seems the soul of it, but not to the extent that readability is unduly sacrificed. And objects too. More objects.\", 'positive')\n",
      "(\"So I've come to obfuscate it in mysticism, which is probably the least appropriate thing for it. Carrying on, it is not code that is Pythonic or not, but the coder. The code is merely the reflection of the coder's state of attainment at one time, and it needs to be refactored anyway. But the coder, in contemplating Pythonicity and progressing upon the way, is naturally and inexorably drawn to greater realization of it.\", 'positive')\n",
      "('When the coder is ready, the serpent will appear.', 'positive')\n",
      "('I know it’s not open source, but Matlab’s control toolbox. Much better than what Python has to offer.', 'positive')\n",
      "('A good fucking task scheduler. ', 'positive')\n",
      "...\n",
      "\n"
     ]
    },
    {
     "name": "stderr",
     "output_type": "stream",
     "text": [
      "                                                                                \r"
     ]
    },
    {
     "name": "stdout",
     "output_type": "stream",
     "text": [
      "-------------------------------------------\n",
      "Time: 2023-04-24 14:56:11\n",
      "-------------------------------------------\n",
      "('These look simple, short and to the point. ', 'neutral')\n",
      "('Easy for a beginner to understand.', 'positive')\n",
      "('Great work 💯💯', 'positive')\n",
      "(\"This is good stuff man, I can't find Learnery anywhere, what are you using to make these?\", 'positive')\n",
      "(\"I'd like more on things I am getting confused on like pandas when to use () vs []\", 'positive')\n",
      "(\"Eg df.['columnName'] or  groupby()[] or pivot...\", 'neutral')\n",
      "('Excellent we love to see more thank you', 'positive')\n",
      "('Thank you', 'neutral')\n",
      "('You did this as a side project or have you put more content out there like this one??', 'positive')\n",
      "(\"This is the first one but I plan on making more on things like machine learning and other topics. They'll probably be used by some of my mates for tutoring.\", 'positive')\n",
      "...\n",
      "\n"
     ]
    },
    {
     "name": "stderr",
     "output_type": "stream",
     "text": [
      "                                                                                \r"
     ]
    },
    {
     "name": "stdout",
     "output_type": "stream",
     "text": [
      "-------------------------------------------\n",
      "Time: 2023-04-24 14:56:12\n",
      "-------------------------------------------\n",
      "('Thank you for this! Ive been trying to build a piece of automation code for a game as a hobby to understand more about pytorch. Do you have any more tips?', 'positive')\n",
      "('Hey! Glad you can find this as a useful resource, any more tips about what?', 'positive')\n",
      "\n"
     ]
    },
    {
     "name": "stderr",
     "output_type": "stream",
     "text": [
      "                                                                                \r"
     ]
    },
    {
     "name": "stdout",
     "output_type": "stream",
     "text": [
      "-------------------------------------------\n",
      "Time: 2023-04-24 14:56:13\n",
      "-------------------------------------------\n",
      "('Add a README.md, no one on reddit is going to clone your repo and attempt to run it with no instructions, no requirements.txt and no idea what they are getting into before deciding to upvote/comment here', 'neutral')\n",
      "('Thank you for the tip I also uploaded a project on gothub yesterday.', 'neutral')\n",
      "\n"
     ]
    },
    {
     "name": "stderr",
     "output_type": "stream",
     "text": [
      "                                                                                \r"
     ]
    },
    {
     "name": "stdout",
     "output_type": "stream",
     "text": [
      "-------------------------------------------\n",
      "Time: 2023-04-24 14:56:14\n",
      "-------------------------------------------\n",
      "('What I think these codes miss is that all this is meaningless without understanding of what is to be implemented, why, for what cost, for whom etc. This is typical for most advice I see regarding software product development (v. coding, once everything is understood). These codes are strictly about coding, which is the \"mechanical\" part of the work, lacking all aspects of requirement analysis, time planning, system design etc.', 'negative')\n",
      "('Also, the setup of laptops and screens in the photo is ergonomically a disaster. No one in their right mind would or should work like this, even less so in the dark.', 'negative')\n",
      "('See it as constructive criticism :).', 'positive')\n",
      "('Definitely a step in the right direction, but not what I thought it was going to be given the name \"trusted publishers\", what\\'s trusted is a 3rd party authentication, not that somehow the publisher is vetted and their work can be trusted.', 'positive')\n",
      "('Anymore documentation for this?', 'neutral')\n",
      "('What they really needed was codechain', 'positive')\n",
      "('https://github.com/frankbraun/codechain', 'neutral')\n",
      "('https://www.youtube.com/live/iwY2Bq8vaQc?feature=share', 'neutral')\n",
      "('Since Python no longer includes the kitchen sink, we definitely need a trusted packages listing, such as numpy, pandas , etc.', 'neutral')\n",
      "(\"I'm aware that this post is about something else.\", 'positive')\n",
      "...\n",
      "\n",
      "-------------------------------------------\n",
      "Time: 2023-04-24 14:56:15\n",
      "-------------------------------------------\n",
      "(\"In my opinion python will be to integrate AI to existant systems, but the business interface of AI will probably be some kind of syntax made specifically to interact with the AI. So the basics of programming would be an advantage but I don't see python specifically being required. But since python is one of the most used language by beginners and that there is a lot of beginner friendly learning content using it, it's a good choice for what you are seeking.\", 'positive')\n",
      "(\"It's hard to predict how these new AIs will change things. They're certainly better at writing code in the more widely known languages, because they've seen more of it in the training data. Python is certainly up there as one of the languages these AIs are good at, and among the best for casual coding as well. I'd recommend it over other widely known languages like C or JavaScript for this purpose.\", 'positive')\n",
      "(\"Hello! I'm a bot!\", 'neutral')\n",
      "('I see someone has already suggested going to r/learnpython, ', 'neutral')\n",
      "('a sub geared towards questions and learning more about python **regardless of how advanced your question might be**. ', 'positive')\n",
      "('I highly recommend posting your question there. ', 'positive')\n",
      "(\"Please follow the subs rules and guidelines when you do post there, it'll help you get better answers faster.\", 'positive')\n",
      "('Show /r/learnpython **the code you have tried and describe in detail where you are stuck.** ', 'neutral')\n",
      "('If you are getting an error message, include the full block of text it spits out.', 'positive')\n",
      "('Quality answers take time to write out, and many times other users will need to ask clarifying questions. Be patient and help them help you. ', 'positive')\n",
      "...\n",
      "\n",
      "-------------------------------------------\n",
      "Time: 2023-04-24 14:56:16\n",
      "-------------------------------------------\n",
      "('Sound like r/learnpython', 'positive')\n",
      "('Para recorrer una carpeta y todas sus subcarpetas puedes usar [os.walk](https://docs.python.org/3/library/os.html#os.walk), con algo así como:', 'neutral')\n",
      "('&#x200B;', 'neutral')\n",
      "('    for ruta, subcarpetas, archivos in os.walk(ruta_inicial):', 'neutral')\n",
      "('        for archi in archivos:', 'neutral')\n",
      "('            path = os.path.join(ruta, archi)', 'neutral')\n",
      "('            zhu_li_do_the_thing(path)', 'neutral')\n",
      "('`os.walk()` can be used to walk through the directories and subdirectories.', 'neutral')\n",
      "('`glob.glob()` can be used to get the files in a directory.', 'neutral')\n",
      "('There are a handful of Python modules that convert files to PDF.  Many of them are type specific, so you will need to know what types you need to convert, and test a module or two.', 'positive')\n",
      "...\n",
      "\n"
     ]
    },
    {
     "name": "stderr",
     "output_type": "stream",
     "text": [
      "[Stage 0:>                                                          (0 + 1) / 1]\r"
     ]
    },
    {
     "name": "stdout",
     "output_type": "stream",
     "text": [
      "-------------------------------------------\n",
      "Time: 2023-04-24 14:56:17\n",
      "-------------------------------------------\n",
      "\n",
      "-------------------------------------------\n",
      "Time: 2023-04-24 14:56:18\n",
      "-------------------------------------------\n",
      "\n"
     ]
    },
    {
     "name": "stderr",
     "output_type": "stream",
     "text": [
      "                                                                                \r"
     ]
    },
    {
     "name": "stdout",
     "output_type": "stream",
     "text": [
      "-------------------------------------------\n",
      "Time: 2023-04-24 14:56:19\n",
      "-------------------------------------------\n",
      "(\"`python -i` to run your code that's crashing which drops you in an interpreter after it crashes. Then `import pdb; pdb.pm()` to put the stack at the exact place the exception was thrown. Like time traveling Python magic.\", 'positive')\n",
      "(\"F-strings are wonderful. Wouldn't really call this a trick, but the number of people I've seen who use old formatting styles is shocking. Expired tutorials is my hunch\", 'positive')\n",
      "('Definitely learn the generators. Generators are lazy evaluated, and they can be used as iterators which makes possible to use itertools functions on them.', 'negative')\n",
      "('And by default (x for x in arr) is generator.', 'neutral')\n",
      "('So doing (f(x) for x in arr) will evaluate f(x) when the next is called on the generator.', 'neutral')\n",
      "(\"Tell a junior it'll be a good learning experience and make them do it.\", 'positive')\n",
      "('Apart from the stuff you learn in basically any Python tutorial, the best \"trick\" to becoming a better programmer is to get familiar with the standard library.  ', 'positive')\n",
      "(\"The amount of code I've seen where people implement their own protocol parsers, socket handlers and other scary things is mindblowing.  \", 'negative')\n",
      "('The [PyMOTW archive](https://pymotw.com/3/) is a nice starting point.  ', 'positive')\n",
      "('My personal favorites: `functools`, `contextlib` and `atexit`.', 'neutral')\n",
      "...\n",
      "\n"
     ]
    },
    {
     "name": "stderr",
     "output_type": "stream",
     "text": [
      "                                                                                \r"
     ]
    },
    {
     "name": "stdout",
     "output_type": "stream",
     "text": [
      "-------------------------------------------\n",
      "Time: 2023-04-24 14:56:20\n",
      "-------------------------------------------\n",
      "('Polars is a cool idea but until it actually gets more seamlessly integrated with stuff, it will always be a second class citizen when compared to Pandas.', 'positive')\n",
      "('Throughout.', 'neutral')\n",
      "('I tend to assign them when I need them as long as it makes the \"story\" of my function flow nicely.', 'positive')\n",
      "('That being said, I try to keep my functions small, preferably between 1 and 10 lines, and just have more functions with descriptive names. Thus the difference between assigning them at the beginning or throughout a function becomes minimal.', 'positive')\n",
      "(\"I prefer to encapsulate each chunk as a function as it allows me to give a descriptive name to it that explains its single responsibility. Also because I don't have a big brain, it allows me to understand a single function more easily as it is just a few lines\", 'positive')\n",
      "(\"Whichever way you find it most readable when you're looking at your code a month later 😉👍\", 'positive')\n",
      "('As soon as you know what you need. That means you don\\'t \"declare\" them at the top with a value that you are going to smash later, because that is what you do in C, not in python.', 'positive')\n",
      "('Throughout a function, as close as possible to its first read.', 'positive')\n",
      "('Usually there aren’t so many places… Let’s say variable X is required in order to assign Y and Y is needed for Z, then you must assign Y after you assigned X and before you assign Z. If there are many different ways in which all dependencies would be satisfied, chances are your functions is doing more than one thing. Moreover, if you need instantiate a lot of things or you have to set numerical constants, you may want to make those arguments of your function (dependency inversion pattern). If you need to assign values because you want to provide mutable default values, I would put default and validation logic at the top.', 'positive')\n",
      "(\"Close to where I need them, but preferably they're coming in through function parameters or class attributes. It seems that the only variables I assign anymore are just for keeping the following line under 80 characters or otherwise DRYing out repeated expressions.\", 'neutral')\n",
      "...\n",
      "\n",
      "-------------------------------------------\n",
      "Time: 2023-04-24 14:56:21\n",
      "-------------------------------------------\n",
      "('Cool work, I just want to say how funny I think it is that you started with \"Please\"', 'positive')\n",
      "('This is nice, will try and get this working this weekend. Well done.', 'positive')\n",
      "('Looks cool. Will definitely try this out. Thanks.', 'positive')\n",
      "(' Be polite to the AI. It’ll pay off later.', 'neutral')\n",
      "('Thanks for sharing. Can you use this interactive web app upload/read input data files which are used in the JupyterNotebook?', 'positive')\n",
      "('Thanks! Sure, there is a [`File`](https://runmercury.com/docs/input-widgets/file/) widget for file upload and [`OutputDir`](https://runmercury.com/docs/output-widgets/outputdir/) widget for writing file for download.', 'positive')\n",
      "('Awesome, thanks, I will give it a try', 'positive')\n",
      "\n",
      "-------------------------------------------\n",
      "Time: 2023-04-24 14:56:22\n",
      "-------------------------------------------\n",
      "('Ah! I remember seeing this in an earlier version.', 'neutral')\n",
      "('MUST take the time to enlighten myself on this. VERY nice.', 'positive')\n",
      "('I am curious what does “generic Vue to Python bridge” mean? I can use vue components with NiceGUI? That would be very cool!', 'positive')\n",
      "('I always wanted to pick this up, but there was never a good youtube tutorial to take us from 0 to prototype. Sorely needed imo', 'negative')\n",
      "('We needed this so bad, thanks you', 'negative')\n",
      "('The documentation gets better and better.', 'positive')\n",
      "('This looks great, I have a couple of tools at work that could use a GUI but I never got started on some of the desktop libraries. Love a simple browser solution.', 'positive')\n",
      "('The documentation alone makes me want to give this a serious shot. Looking forward to trying it out.', 'negative')\n",
      "('> Introduce ui.dark_mode', 'neutral')\n",
      "('This is usable now!', 'neutral')\n",
      "...\n",
      "\n"
     ]
    },
    {
     "name": "stderr",
     "output_type": "stream",
     "text": [
      "                                                                                \r"
     ]
    },
    {
     "name": "stdout",
     "output_type": "stream",
     "text": [
      "-------------------------------------------\n",
      "Time: 2023-04-24 14:56:23\n",
      "-------------------------------------------\n",
      "('Your second example should go a bit further:', 'neutral')\n",
      "('```', 'neutral')\n",
      "('import asyncio', 'neutral')\n",
      "('async def delayed_greet():', 'neutral')\n",
      "('    print(\"I’m going to sleep…\")', 'neutral')\n",
      "('    await asyncio.sleep(2)', 'neutral')\n",
      "('    print(\"Hello, asyncio!\")', 'neutral')\n",
      "('async def main():', 'positive')\n",
      "('    co = delayed_greet()', 'neutral')\n",
      "('    print(\"What a wonderful day!\")', 'positive')\n",
      "...\n",
      "\n"
     ]
    },
    {
     "name": "stderr",
     "output_type": "stream",
     "text": [
      "                                                                                \r"
     ]
    },
    {
     "name": "stdout",
     "output_type": "stream",
     "text": [
      "-------------------------------------------\n",
      "Time: 2023-04-24 14:56:24\n",
      "-------------------------------------------\n",
      "('Download every stock ticker open/close/high/low/volume value on 4 large exchanges every day, into a squlite dB, and run a bunch of analysis, and then email me each morning what it found.', 'positive')\n",
      "(\"They didn't want me to touch the backend development codebase, so I re-wrote Perl scripts in Python. It was a good learning experience, but I got out of that job as soon as I could.\", 'positive')\n",
      "(\"I really fail to understand the downvotes. I'm asking the questions most people have. Is Reddit normally so vicious?\", 'negative')\n",
      "('Port old PowerShell spaghetti code to properly commented and understandable Python scripts (with tests and stuff)', 'positive')\n",
      "('Develop of a model for a multilabel multiclass classification of core properties based on its daylight and UV-light images. That was hard.', 'negative')\n",
      "('https://en.wikipedia.org/wiki/Core\\\\_sample', 'neutral')\n",
      "('Data engineering', 'neutral')\n",
      "('Edit:', 'neutral')\n",
      "('More specifically, converting SQL models to PySpark and writing Airflow DAGs', 'positive')\n",
      "('Python job? A python only job is rare outside of Data/ML. Python is just 1 tool in a toolbox, you should be learning other languages too based on what you want to do.', 'positive')\n",
      "...\n",
      "\n"
     ]
    },
    {
     "name": "stderr",
     "output_type": "stream",
     "text": [
      "                                                                                \r"
     ]
    },
    {
     "name": "stdout",
     "output_type": "stream",
     "text": [
      "-------------------------------------------\n",
      "Time: 2023-04-24 14:56:25\n",
      "-------------------------------------------\n",
      "('It is not more idiomatic; to be idiomatic, you follow the idioms of the language community, where we use the builtins where available.', 'positive')\n",
      "('Most of those special methods exist as the specific pathway for a class to support the builtin functions.', 'positive')\n",
      "('Do you also access list items by index with `__getitem__` and properties with `__getattribute__`? That would add some... consistency :P', 'positive')\n",
      "('Sounds unwise. Your examples aren’t anything concerning, but it’s still locking into the implementations details instead of using the provided abstractions.', 'neutral')\n",
      "('Again, your examples aren’t really something I’d see as “bad” but I’d def think it’s ugly and question your reasoning / assume some negative stuff about your style if I saw that, unless the rest of your code struck me as good enough that I thought you had a secret amazing reason.', 'negative')\n",
      "('It’s weird, basically.', 'negative')\n",
      "('Also, you generally shouldn’t be referencing an objects dunder dict directly. There **are** valid and good reasons to do so, just usually when people do it it’s not one of those things.', 'positive')\n",
      "('Don’t take that as a “don’t do that” though - by all means keep doing it, just remember this comment and read other peoples code and if it starts to feel awkward, you now have sincerely explored to help pick your style.', 'negative')\n",
      "('TLDR I hate it but that doesn’t mean you have to.', 'negative')\n",
      "('There’s no reason to do what you’re doing and it will only confuse people who try to read your code.', 'neutral')\n",
      "...\n",
      "\n"
     ]
    },
    {
     "name": "stderr",
     "output_type": "stream",
     "text": [
      "                                                                                \r"
     ]
    },
    {
     "name": "stdout",
     "output_type": "stream",
     "text": [
      "-------------------------------------------\n",
      "Time: 2023-04-24 14:56:26\n",
      "-------------------------------------------\n",
      "('Cool project! ', 'positive')\n",
      "('To help with your annoyance at activating your virtual environment (I personally tend to forget to do so) take a look at [aactivator](https://pypi.org/project/aactivator/), you need to add two files to your main folder where the script is located and once you `cd` into it it will automatically source the virtual env end deactivate it once you `cd` out of it!', 'positive')\n",
      "('Cool idea. Did you think about adding cron/shutdown/login and other triggers as options for the scripts?', 'positive')\n",
      "('I think you could like this: https://sveinbjorn.org/platypus', 'neutral')\n",
      "('Check out xBar', 'neutral')\n",
      "(\"That's pretty cool! And Thanks.\", 'positive')\n",
      "('Or direnv. Which can do a lot', 'neutral')\n",
      "('You could probably also pipe stdout or return codes to the Information bubble that shows itself when youvreceive a message :)', 'positive')\n",
      "(\"That's pretty sweet actually.\", 'positive')\n",
      "(\"I did see xbar but that's in go, this is pure python.\", 'positive')\n",
      "...\n",
      "\n"
     ]
    },
    {
     "name": "stderr",
     "output_type": "stream",
     "text": [
      "                                                                                \r"
     ]
    },
    {
     "name": "stdout",
     "output_type": "stream",
     "text": [
      "-------------------------------------------\n",
      "Time: 2023-04-24 14:56:27\n",
      "-------------------------------------------\n",
      "('Render.com allows you to deploy any docker contained app (so python for example) and has a free tier. Sign in with you github.', 'positive')\n",
      "(\"Any common VPS, search for VPS on Google, there are so many. I use Ionos, pay 3€ per month, 2vCPU. But not recommending anything, just giving a cost example. You can install docker on VPS and deploy as container, then open the port on VPS and it's done.\", 'positive')\n",
      "(\"I've been having a good time with pythonanywhere\", 'positive')\n",
      "('Render', 'neutral')\n",
      "('Heroku is a good option as it connects directly to your GitHub, but may be costly. Another option is Python Anywhere, cheaper but quite limited and requires much more configuration.', 'positive')\n",
      "('AWS. ', 'neutral')\n",
      "('Host your static content for your website in S3', 'positive')\n",
      "('Use API gateway and lambda for your compute', 'neutral')\n",
      "('DynamoDB for any database needs', 'neutral')\n",
      "('Completely different take: If you have a good fast fibre connection you could host it on some hardware at home. Will obviously cost a little to get the hardware but you can use an old laptop or old gaming pc. You will have to register a domain name and fiddle with nat rules but the fun and learning is a great experience!!! Make sure you apply some good security!!! I would recommend pfsense or opnsense.', 'positive')\n",
      "...\n",
      "\n"
     ]
    },
    {
     "name": "stderr",
     "output_type": "stream",
     "text": [
      "[Stage 0:>                                                          (0 + 1) / 1]\r"
     ]
    },
    {
     "name": "stdout",
     "output_type": "stream",
     "text": [
      "-------------------------------------------\n",
      "Time: 2023-04-24 14:56:28\n",
      "-------------------------------------------\n",
      "\n",
      "-------------------------------------------\n",
      "Time: 2023-04-24 14:56:29\n",
      "-------------------------------------------\n",
      "\n"
     ]
    },
    {
     "name": "stderr",
     "output_type": "stream",
     "text": [
      "                                                                                \r"
     ]
    },
    {
     "name": "stdout",
     "output_type": "stream",
     "text": [
      "-------------------------------------------\n",
      "Time: 2023-04-24 14:56:30\n",
      "-------------------------------------------\n",
      "(\"pyenv, poetry, that's all\", 'neutral')\n",
      "(\"and [https://github.com/cnpryer/huak](https://github.com/cnpryer/huak) if it's stable will replace both for me :)\", 'positive')\n",
      "(\"I don't get why people install their dev tools globally. They should be installed by project and checked in so all people have the same dev environment\", 'neutral')\n",
      "('> pip freeze feels tedious to me', 'negative')\n",
      "('We have a script called \"generate_constraints\", whenever you update the requirements file it builds an environment based off everything (prod and dev requirements) and uses Pip freeze to generate a constraints file.', 'neutral')\n",
      "('Then our dev, qa, and prod environments use this constraints file so they are all working against some agreed subset of an exact universe of requirements.', 'positive')\n",
      "(\"It would be nice if this was built into our tooling but I haven't found it to be tedious, and every other tool I've tried so far has added extra complexity where I don't want it.\", 'positive')\n",
      "('I really like pdm.', 'positive')\n",
      "('Not a big fan of poetry honestly', 'positive')\n",
      "('Asdf + poetry has been really nice', 'positive')\n",
      "...\n",
      "\n"
     ]
    },
    {
     "name": "stderr",
     "output_type": "stream",
     "text": [
      "                                                                                \r"
     ]
    },
    {
     "name": "stdout",
     "output_type": "stream",
     "text": [
      "-------------------------------------------\n",
      "Time: 2023-04-24 14:56:31\n",
      "-------------------------------------------\n",
      "('doit is one of those tools that has the nice property of being   ', 'positive')\n",
      "('like Python: it makes simple things simple, and complicated things   ', 'negative')\n",
      "('possible. ', 'neutral')\n",
      "(\"It's not the best at anything. Options parsing is not the most  \", 'positive')\n",
      "(' flexible, you have to remember to set the verbosity if you want to   ', 'neutral')\n",
      "('print, etc. ', 'neutral')\n",
      "(\"But it's quite good at a lot of things.\", 'positive')\n",
      "(\"if it works for you, fine i guess. i do the inverse. i use bash when I want to call bash or when I want to mix bash and Python or any other language. i don't need a framework to do it though.\", 'positive')\n",
      "('I like a combination of taskipy, nox, and shell scripts.', 'neutral')\n",
      "('Yes but:', 'neutral')\n",
      "...\n",
      "\n"
     ]
    },
    {
     "name": "stderr",
     "output_type": "stream",
     "text": [
      "                                                                                \r"
     ]
    },
    {
     "name": "stdout",
     "output_type": "stream",
     "text": [
      "-------------------------------------------\n",
      "Time: 2023-04-24 14:56:32\n",
      "-------------------------------------------\n",
      "('Just an FYI, your webflow link to the source code points to a 404 error page. It states:', 'neutral')\n",
      "('The ‘matthewwray/cap’ repository doesn’t contain the ‘cap’ path in ‘main’.', 'positive')\n",
      "('Very sorry about that! The working link is https://github.com/matthewwray/cap', 'negative')\n",
      "('https://stackoverflow.com/questions/240178/list-of-lists-changes-reflected-across-sublists-unexpectedly', 'neutral')\n",
      "('The inner one need not be a comprehension:', 'neutral')\n",
      "('    >>> buffers = [[None]*3 for _ in range(3)]', 'neutral')\n",
      "('    >>> buffers[0][0] = 42', 'neutral')\n",
      "('    >>> buffers', 'neutral')\n",
      "('    [[42, None, None], [None, None, None], [None, None, None]]', 'neutral')\n",
      "('The term is \"gotcha\" and this is a pretty well-known one for Python. It\\'s certainly not the only one. The thing to understand here is that lists hold references to objects, and multiplying them multiplies the references, and it does not copy the objects. This is fine for `None`, because there\\'s only one of them to begin with. Pointing to the same immutable object multiple times generally doesn\\'t cause problems.', 'positive')\n",
      "...\n",
      "\n"
     ]
    },
    {
     "name": "stderr",
     "output_type": "stream",
     "text": [
      "                                                                                \r"
     ]
    },
    {
     "name": "stdout",
     "output_type": "stream",
     "text": [
      "-------------------------------------------\n",
      "Time: 2023-04-24 14:56:33\n",
      "-------------------------------------------\n",
      "('I started learning Python a few days ago. I am studied about square brackets but, I cannot recreate what the tutor did.', 'negative')\n",
      "('I’m at PyCon right now and skipped out on dinner/social things last night to spend a few hours optimizing my VSCode setup in ways I had been meaning to for awhile. ', 'positive')\n",
      "('Including:', 'neutral')\n",
      "('-\\truff extension ', 'neutral')\n",
      "('-\\tfinally setting up mypy ', 'neutral')\n",
      "('-\\tchanging up some keyboard bindings ', 'neutral')\n",
      "('-\\tfiguring out how to use the VSCode debugger for Django IN a Docker compose set up', 'neutral')\n",
      "('All of it relatively easy to do, probably took 2-3 hours total but stuff I’ve been meaning to do or try for months or more that is very likely to make me more efficient in the months to come.', 'positive')\n",
      "('I worked on weather data analysis based on WRF model, and I also used netCDF4 and numpy to do some post-simulation analysis. ', 'neutral')\n",
      "('Also I used the python in Blender to do some practice for visualization.', 'neutral')\n",
      "...\n",
      "\n"
     ]
    },
    {
     "name": "stderr",
     "output_type": "stream",
     "text": [
      "                                                                                \r"
     ]
    },
    {
     "name": "stdout",
     "output_type": "stream",
     "text": [
      "-------------------------------------------\n",
      "Time: 2023-04-24 14:56:34\n",
      "-------------------------------------------\n",
      "('As someone who prefers to use plain old venv and pip over poetry and the like, this looks like something I would try. Thanks for this.', 'positive')\n",
      "(\"This is my contribution to an ever evolving Python packaging discussion: it's a wrapper around existing ecosystem tools (virtualenv, pip-compile & pip-sync as well as pip) to manage global tools (like pipsi/pipx), python installations (like pyenv) and projects themselves.\", 'neutral')\n",
      "(\"I hacked this together for my own entertainment and I have been using this for side projects. It's mostly an exploration of what could be and to see where the shortcomings in the ecosystem are.\", 'positive')\n",
      "('The readme shows more of the issues this runs up against.', 'positive')\n",
      "(\"One interesting tidbit is that it completely ignores your system Python installations, and instead uses precompiled installations of Python by [indygreg](https://github.com/indygreg/python-build-standalone/) from PyOxidizer. This means you don't have to deal with installing Python. It just auto downloads the right builds.\", 'positive')\n",
      "('I kinda of hope that some of those ideas might encourage us as a community to look into missing pieces in the package specification (dev dependencies, monorepo support with local dependencies, simple script aliases, redistributable binary python builds etc.).', 'negative')\n",
      "('[Introduction screencast](https://www.youtube.com/watch?v=CyI8TBuKPF0)', 'neutral')\n",
      "('[Obligatory link to xkcd #927](https://xkcd.com/927/)', 'neutral')\n",
      "('>while I personally do not like virtualenvs that much', 'positive')\n",
      "('why not? I find local repo venvs to be the easiest way to contain dependencies and avoid python packaging nightmares.', 'neutral')\n",
      "...\n",
      "\n"
     ]
    },
    {
     "name": "stderr",
     "output_type": "stream",
     "text": [
      "ERROR:root:KeyboardInterrupt while sending command.                 (0 + 1) / 1]\n",
      "Traceback (most recent call last):\n",
      "  File \"/home/maxime/Scientific_Programming/testvenv/lib/python3.8/site-packages/py4j/java_gateway.py\", line 1038, in send_command\n",
      "    response = connection.send_command(command)\n",
      "  File \"/home/maxime/Scientific_Programming/testvenv/lib/python3.8/site-packages/py4j/clientserver.py\", line 511, in send_command\n",
      "    answer = smart_decode(self.stream.readline()[:-1])\n",
      "  File \"/usr/lib/python3.8/socket.py\", line 669, in readinto\n",
      "    return self._sock.recv_into(b)\n",
      "KeyboardInterrupt\n",
      "                                                                                \r"
     ]
    },
    {
     "name": "stdout",
     "output_type": "stream",
     "text": [
      "-------------------------------------------\n",
      "Time: 2023-04-24 14:56:35\n",
      "-------------------------------------------\n",
      "(\"This is great. Can't wait to see where you take it.\", 'positive')\n",
      "('Seems like it would be easier to just use the different sports apps that do this already (i.e. FotMob, OneFootball, etc).', 'neutral')\n",
      "('I think it’s pretty cool. Would be nice to see some filters by team and for the icons to show each teams emblem split by a line down the middle or something', 'positive')\n",
      "\n"
     ]
    },
    {
     "name": "stderr",
     "output_type": "stream",
     "text": [
      "                                                                                \r"
     ]
    },
    {
     "name": "stdout",
     "output_type": "stream",
     "text": [
      "-------------------------------------------\n",
      "Time: 2023-04-24 14:56:36\n",
      "-------------------------------------------\n",
      "('The *business rule* should be enforced with code.', 'neutral')\n",
      "('The *code* should be tested with a unit test.', 'neutral')\n",
      "('If it is a unit test, it should test the behaviour of the unit the logic is in.', 'neutral')\n",
      "('Broadly speaking, if this behaviour is spilt across two files (say user.py and format.py) then there should be at least two tests covering the explicit logic in those files, at least one for each function involved.', 'negative')\n",
      "('If you want to test the behaviour of your system (it obeys the business rule) then you are no longer talking about unit tests, you are talking about functional tests (which have many different names!).', 'positive')\n",
      "(\"The user name belongs to the User class, so it's that class' responsibility to validate it (unless you have a separate place for validation).\", 'neutral')\n",
      "('r/askprogramming', 'neutral')\n",
      "('r/learnprogramming', 'neutral')\n",
      "('If you have code which normalises usernames into their lower-case form, then yes, that is something you should unit test. Create a user with capital letters in the name, then query your database and make sure the saved version is all lower.', 'positive')\n",
      "('![img](emote|t5_2qh0y|598)', 'neutral')\n",
      "...\n",
      "\n"
     ]
    },
    {
     "ename": "KeyboardInterrupt",
     "evalue": "",
     "output_type": "error",
     "traceback": [
      "\u001b[0;31m---------------------------------------------------------------------------\u001b[0m",
      "\u001b[0;31mKeyboardInterrupt\u001b[0m                         Traceback (most recent call last)",
      "Cell \u001b[0;32mIn[10], line 4\u001b[0m\n\u001b[1;32m      2\u001b[0m ssc\u001b[39m.\u001b[39mstart()\n\u001b[1;32m      3\u001b[0m \u001b[39m# Wait for the streaming to finish\u001b[39;00m\n\u001b[0;32m----> 4\u001b[0m ssc\u001b[39m.\u001b[39;49mawaitTermination()\n",
      "File \u001b[0;32m~/Scientific_Programming/testvenv/lib/python3.8/site-packages/pyspark/streaming/context.py:239\u001b[0m, in \u001b[0;36mStreamingContext.awaitTermination\u001b[0;34m(self, timeout)\u001b[0m\n\u001b[1;32m    230\u001b[0m \u001b[39m\u001b[39m\u001b[39m\"\"\"\u001b[39;00m\n\u001b[1;32m    231\u001b[0m \u001b[39mWait for the execution to stop.\u001b[39;00m\n\u001b[1;32m    232\u001b[0m \n\u001b[0;32m   (...)\u001b[0m\n\u001b[1;32m    236\u001b[0m \u001b[39m    time to wait in seconds\u001b[39;00m\n\u001b[1;32m    237\u001b[0m \u001b[39m\"\"\"\u001b[39;00m\n\u001b[1;32m    238\u001b[0m \u001b[39mif\u001b[39;00m timeout \u001b[39mis\u001b[39;00m \u001b[39mNone\u001b[39;00m:\n\u001b[0;32m--> 239\u001b[0m     \u001b[39mself\u001b[39;49m\u001b[39m.\u001b[39;49m_jssc\u001b[39m.\u001b[39;49mawaitTermination()\n\u001b[1;32m    240\u001b[0m \u001b[39melse\u001b[39;00m:\n\u001b[1;32m    241\u001b[0m     \u001b[39mself\u001b[39m\u001b[39m.\u001b[39m_jssc\u001b[39m.\u001b[39mawaitTerminationOrTimeout(\u001b[39mint\u001b[39m(timeout \u001b[39m*\u001b[39m \u001b[39m1000\u001b[39m))\n",
      "File \u001b[0;32m~/Scientific_Programming/testvenv/lib/python3.8/site-packages/py4j/java_gateway.py:1321\u001b[0m, in \u001b[0;36mJavaMember.__call__\u001b[0;34m(self, *args)\u001b[0m\n\u001b[1;32m   1314\u001b[0m args_command, temp_args \u001b[39m=\u001b[39m \u001b[39mself\u001b[39m\u001b[39m.\u001b[39m_build_args(\u001b[39m*\u001b[39margs)\n\u001b[1;32m   1316\u001b[0m command \u001b[39m=\u001b[39m proto\u001b[39m.\u001b[39mCALL_COMMAND_NAME \u001b[39m+\u001b[39m\\\n\u001b[1;32m   1317\u001b[0m     \u001b[39mself\u001b[39m\u001b[39m.\u001b[39mcommand_header \u001b[39m+\u001b[39m\\\n\u001b[1;32m   1318\u001b[0m     args_command \u001b[39m+\u001b[39m\\\n\u001b[1;32m   1319\u001b[0m     proto\u001b[39m.\u001b[39mEND_COMMAND_PART\n\u001b[0;32m-> 1321\u001b[0m answer \u001b[39m=\u001b[39m \u001b[39mself\u001b[39;49m\u001b[39m.\u001b[39;49mgateway_client\u001b[39m.\u001b[39;49msend_command(command)\n\u001b[1;32m   1322\u001b[0m return_value \u001b[39m=\u001b[39m get_return_value(\n\u001b[1;32m   1323\u001b[0m     answer, \u001b[39mself\u001b[39m\u001b[39m.\u001b[39mgateway_client, \u001b[39mself\u001b[39m\u001b[39m.\u001b[39mtarget_id, \u001b[39mself\u001b[39m\u001b[39m.\u001b[39mname)\n\u001b[1;32m   1325\u001b[0m \u001b[39mfor\u001b[39;00m temp_arg \u001b[39min\u001b[39;00m temp_args:\n",
      "File \u001b[0;32m~/Scientific_Programming/testvenv/lib/python3.8/site-packages/py4j/java_gateway.py:1038\u001b[0m, in \u001b[0;36mGatewayClient.send_command\u001b[0;34m(self, command, retry, binary)\u001b[0m\n\u001b[1;32m   1036\u001b[0m connection \u001b[39m=\u001b[39m \u001b[39mself\u001b[39m\u001b[39m.\u001b[39m_get_connection()\n\u001b[1;32m   1037\u001b[0m \u001b[39mtry\u001b[39;00m:\n\u001b[0;32m-> 1038\u001b[0m     response \u001b[39m=\u001b[39m connection\u001b[39m.\u001b[39;49msend_command(command)\n\u001b[1;32m   1039\u001b[0m     \u001b[39mif\u001b[39;00m binary:\n\u001b[1;32m   1040\u001b[0m         \u001b[39mreturn\u001b[39;00m response, \u001b[39mself\u001b[39m\u001b[39m.\u001b[39m_create_connection_guard(connection)\n",
      "File \u001b[0;32m~/Scientific_Programming/testvenv/lib/python3.8/site-packages/py4j/clientserver.py:511\u001b[0m, in \u001b[0;36mClientServerConnection.send_command\u001b[0;34m(self, command)\u001b[0m\n\u001b[1;32m    509\u001b[0m \u001b[39mtry\u001b[39;00m:\n\u001b[1;32m    510\u001b[0m     \u001b[39mwhile\u001b[39;00m \u001b[39mTrue\u001b[39;00m:\n\u001b[0;32m--> 511\u001b[0m         answer \u001b[39m=\u001b[39m smart_decode(\u001b[39mself\u001b[39;49m\u001b[39m.\u001b[39;49mstream\u001b[39m.\u001b[39;49mreadline()[:\u001b[39m-\u001b[39m\u001b[39m1\u001b[39m])\n\u001b[1;32m    512\u001b[0m         logger\u001b[39m.\u001b[39mdebug(\u001b[39m\"\u001b[39m\u001b[39mAnswer received: \u001b[39m\u001b[39m{0}\u001b[39;00m\u001b[39m\"\u001b[39m\u001b[39m.\u001b[39mformat(answer))\n\u001b[1;32m    513\u001b[0m         \u001b[39m# Happens when a the other end is dead. There might be an empty\u001b[39;00m\n\u001b[1;32m    514\u001b[0m         \u001b[39m# answer before the socket raises an error.\u001b[39;00m\n",
      "File \u001b[0;32m/usr/lib/python3.8/socket.py:669\u001b[0m, in \u001b[0;36mSocketIO.readinto\u001b[0;34m(self, b)\u001b[0m\n\u001b[1;32m    667\u001b[0m \u001b[39mwhile\u001b[39;00m \u001b[39mTrue\u001b[39;00m:\n\u001b[1;32m    668\u001b[0m     \u001b[39mtry\u001b[39;00m:\n\u001b[0;32m--> 669\u001b[0m         \u001b[39mreturn\u001b[39;00m \u001b[39mself\u001b[39;49m\u001b[39m.\u001b[39;49m_sock\u001b[39m.\u001b[39;49mrecv_into(b)\n\u001b[1;32m    670\u001b[0m     \u001b[39mexcept\u001b[39;00m timeout:\n\u001b[1;32m    671\u001b[0m         \u001b[39mself\u001b[39m\u001b[39m.\u001b[39m_timeout_occurred \u001b[39m=\u001b[39m \u001b[39mTrue\u001b[39;00m\n",
      "\u001b[0;31mKeyboardInterrupt\u001b[0m: "
     ]
    },
    {
     "name": "stderr",
     "output_type": "stream",
     "text": [
      "                                                                                \r"
     ]
    },
    {
     "name": "stdout",
     "output_type": "stream",
     "text": [
      "-------------------------------------------\n",
      "Time: 2023-04-24 14:56:37\n",
      "-------------------------------------------\n",
      "(\"I can't think of anything I want less than puns in my terminal. But why are the puns being delivered by the Ghostbusters logo?\", 'negative')\n",
      "(\"Also, do you realize you didn't actually link to your github repo?\", 'neutral')\n",
      "('I love it!', 'positive')\n",
      "(\"Well if this showed me anything it's that cowsay has multiple characters\", 'neutral')\n",
      "('It seems there are many duplicates in the pun text file. Is that on purpose? https://raw.githubusercontent.com/thevahidal/pun-cli/main/pun_repository.txt', 'positive')\n",
      "('Hey man, thanks for the comment,   ', 'positive')\n",
      "(\"The character icon is random, I'm using \\\\`cowsay\\\\` for it and by chance it's Ghostbuster logo.  \", 'negative')\n",
      "(\"That's weird I'm pretty sure that I added my repo URL, here's the link:  \", 'positive')\n",
      "('[https://github.com/thevahidal/pun-cli](https://github.com/thevahidal/pun-cli)', 'neutral')\n",
      "('Thanks dude!', 'positive')\n",
      "...\n",
      "\n"
     ]
    },
    {
     "name": "stderr",
     "output_type": "stream",
     "text": [
      "                                                                                \r"
     ]
    },
    {
     "name": "stdout",
     "output_type": "stream",
     "text": [
      "-------------------------------------------\n",
      "Time: 2023-04-24 14:56:38\n",
      "-------------------------------------------\n",
      "(\"I see you've posted a GitHub link to a Jupyter Notebook! GitHub doesn't \", 'neutral')\n",
      "('render large Jupyter Notebooks, so just in case, here is an ', 'positive')\n",
      "('[nbviewer](https://nbviewer.jupyter.org/) link to the notebook:', 'neutral')\n",
      "('https://nbviewer.jupyter.org/url/github.com/ThomasAlbin/Astroniz-YT-Tutorials/blob/main/%5BProject%5D-Cassini-CDA/01-Calibration/04_weighted_machine_learning.ipynb', 'neutral')\n",
      "('Want to run the code yourself? Here is a [binder](https://mybinder.org/) ', 'neutral')\n",
      "('link to start your own Jupyter server and try it out!', 'positive')\n",
      "('https://mybinder.org/v2/gh/ThomasAlbin/Astroniz-YT-Tutorials/main?filepath=%5BProject%5D-Cassini-CDA%2F01-Calibration%2F04_weighted_machine_learning.ipynb', 'neutral')\n",
      "('------', 'neutral')\n",
      "('^(I am a bot.) ', 'neutral')\n",
      "('[^(Feedback)](https://www.reddit.com/message/compose/?to=jd_paton) ^(|) ', 'neutral')\n",
      "...\n",
      "\n"
     ]
    },
    {
     "name": "stderr",
     "output_type": "stream",
     "text": [
      "[Stage 0:>                                                          (0 + 1) / 1]\r"
     ]
    },
    {
     "name": "stdout",
     "output_type": "stream",
     "text": [
      "-------------------------------------------\n",
      "Time: 2023-04-24 14:56:39\n",
      "-------------------------------------------\n",
      "\n"
     ]
    },
    {
     "name": "stderr",
     "output_type": "stream",
     "text": [
      "                                                                                \r"
     ]
    },
    {
     "name": "stdout",
     "output_type": "stream",
     "text": [
      "-------------------------------------------\n",
      "Time: 2023-04-24 14:56:40\n",
      "-------------------------------------------\n",
      "('Api key is in the repo, not sure if that matters..', 'negative')\n",
      "(\"I'd love for someone to do the same with PDFs\", 'positive')\n",
      "('Been wanting to make one of these but I’m a noob in python rn so thanks I will check this out!', 'positive')\n",
      "('contribute it to llama-index', 'neutral')\n",
      "('This is awesome, thanks for sharing!', 'positive')\n",
      "('What’s the next step after you have a boatload of vectors in pinecone ? Can you somehow enrich a chatgpt llm with new data?', 'positive')\n",
      "('How well does it handle tabular and image data from html pages?', 'neutral')\n",
      "('Gonna fork this, thanks', 'positive')\n",
      "('It shouldnt be there, thanks! Most likely obsolete by now, i switch em often', 'positive')\n",
      "('Not self-hosted but excellent: chatpdf.com', 'positive')\n",
      "...\n",
      "\n"
     ]
    },
    {
     "name": "stderr",
     "output_type": "stream",
     "text": [
      "                                                                                \r"
     ]
    }
   ],
   "source": [
    "# Start the streaming context\n",
    "ssc.start()\n",
    "# Wait for the streaming to finish\n",
    "ssc.awaitTermination()"
   ]
  },
  {
   "cell_type": "code",
   "execution_count": 11,
   "metadata": {},
   "outputs": [
    {
     "name": "stdout",
     "output_type": "stream",
     "text": [
      "-------------------------------------------\n",
      "Time: 2023-04-24 14:56:41\n",
      "-------------------------------------------\n",
      "(\"We're still using Twitter?\", 'neutral')\n",
      "\n"
     ]
    },
    {
     "name": "stderr",
     "output_type": "stream",
     "text": [
      "23/04/24 14:56:41 ERROR ReceiverTracker: Deregistered receiver for stream 0: Stopped by driver\n",
      "Exception in thread \"receiver-supervisor-future-0\" java.lang.Error: java.lang.InterruptedException: sleep interrupted\n",
      "\tat java.util.concurrent.ThreadPoolExecutor.runWorker(ThreadPoolExecutor.java:1155)\n",
      "\tat java.util.concurrent.ThreadPoolExecutor$Worker.run(ThreadPoolExecutor.java:624)\n",
      "\tat java.lang.Thread.run(Thread.java:750)\n",
      "Caused by: java.lang.InterruptedException: sleep interrupted\n",
      "\tat java.lang.Thread.sleep(Native Method)\n",
      "\tat org.apache.spark.streaming.receiver.ReceiverSupervisor.$anonfun$restartReceiver$1(ReceiverSupervisor.scala:196)\n",
      "\tat scala.runtime.java8.JFunction0$mcV$sp.apply(JFunction0$mcV$sp.java:23)\n",
      "\tat scala.concurrent.Future$.$anonfun$apply$1(Future.scala:659)\n",
      "\tat scala.util.Success.$anonfun$map$1(Try.scala:255)\n",
      "\tat scala.util.Success.map(Try.scala:213)\n",
      "\tat scala.concurrent.Future.$anonfun$map$1(Future.scala:292)\n",
      "\tat scala.concurrent.impl.Promise.liftedTree1$1(Promise.scala:33)\n",
      "\tat scala.concurrent.impl.Promise.$anonfun$transform$1(Promise.scala:33)\n",
      "\tat scala.concurrent.impl.CallbackRunnable.run(Promise.scala:64)\n",
      "\tat java.util.concurrent.ThreadPoolExecutor.runWorker(ThreadPoolExecutor.java:1149)\n",
      "\t... 2 more\n",
      "[Stage 0:>                                                          (0 + 1) / 1]\r"
     ]
    },
    {
     "name": "stdout",
     "output_type": "stream",
     "text": [
      "-------------------------------------------\n",
      "Time: 2023-04-24 14:56:42\n",
      "-------------------------------------------\n",
      "\n",
      "-------------------------------------------\n",
      "Time: 2023-04-24 14:56:43\n",
      "-------------------------------------------\n",
      "\n"
     ]
    }
   ],
   "source": [
    "ssc.stop(stopSparkContext=True, stopGraceFully=True)"
   ]
  },
  {
   "cell_type": "code",
   "execution_count": null,
   "metadata": {},
   "outputs": [],
   "source": []
  }
 ],
 "metadata": {
  "kernelspec": {
   "display_name": "testvenv",
   "language": "python",
   "name": "python3"
  },
  "language_info": {
   "codemirror_mode": {
    "name": "ipython",
    "version": 3
   },
   "file_extension": ".py",
   "mimetype": "text/x-python",
   "name": "python",
   "nbconvert_exporter": "python",
   "pygments_lexer": "ipython3",
   "version": "3.8.10"
  },
  "orig_nbformat": 4
 },
 "nbformat": 4,
 "nbformat_minor": 2
}
