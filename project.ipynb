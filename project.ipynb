{
 "cells": [
  {
   "attachments": {},
   "cell_type": "markdown",
   "metadata": {},
   "source": [
    "Spark project"
   ]
  },
  {
   "cell_type": "code",
   "execution_count": null,
   "metadata": {},
   "outputs": [],
   "source": [
    "# !pip install praw\n",
    "# !pip install textblob\n",
    "# !pip install pyspark"
   ]
  },
  {
   "cell_type": "code",
   "execution_count": null,
   "metadata": {},
   "outputs": [],
   "source": [
    "from pyspark import SparkContext\n",
    "from pyspark.streaming import StreamingContext\n",
    "from textblob import TextBlob"
   ]
  },
  {
   "cell_type": "code",
   "execution_count": null,
   "metadata": {},
   "outputs": [],
   "source": [
    "# Create a SparkContext\n",
    "sc = SparkContext(appName=\"RedditStreamingSentimentAnalysis\")"
   ]
  },
  {
   "cell_type": "code",
   "execution_count": null,
   "metadata": {},
   "outputs": [],
   "source": [
    "sc.setLogLevel(\"ERROR\")"
   ]
  },
  {
   "cell_type": "code",
   "execution_count": null,
   "metadata": {},
   "outputs": [],
   "source": [
    "# Create a StreamingContext with a batch interval of 10 seconds\n",
    "ssc = StreamingContext(sc, 1)"
   ]
  },
  {
   "cell_type": "code",
   "execution_count": null,
   "metadata": {},
   "outputs": [],
   "source": [
    "# Create a DStream from the socket\n",
    "dstream = ssc.socketTextStream(\"localhost\", 8888)"
   ]
  },
  {
   "cell_type": "code",
   "execution_count": null,
   "metadata": {},
   "outputs": [],
   "source": [
    "\n",
    "# Define a function to perform sentiment analysis on each message\n",
    "def analyze_sentiment(message):\n",
    "    blob = TextBlob(message)\n",
    "    polarity = blob.sentiment.polarity\n",
    "    subjectivity = blob.sentiment.subjectivity\n",
    "    if polarity > 0:\n",
    "        sentiment = \"positive\"\n",
    "    elif polarity < 0:\n",
    "        sentiment = \"negative\"\n",
    "    else:\n",
    "        sentiment = \"neutral\"\n",
    "    return (message,sentiment)\n",
    "    # return (sentiment,1)"
   ]
  },
  {
   "cell_type": "code",
   "execution_count": null,
   "metadata": {},
   "outputs": [],
   "source": [
    "# Apply the sentiment analysis function to each message in the DStream\n",
    "tagged_dstream = dstream.filter(lambda line: len(line) > 0)\\\n",
    "                        .map(lambda message: analyze_sentiment(message))\\\n",
    "                        # .reduceByKey(lambda a, b: a + b)\n",
    "# .flatMap(lambda line: line.split(\" \"))\\\n",
    "# .map(lambda line: line.split(\"|\"))\\\n",
    "\n",
    "# Print the results\n",
    "tagged_dstream.pprint()\n"
   ]
  },
  {
   "cell_type": "code",
   "execution_count": null,
   "metadata": {},
   "outputs": [],
   "source": [
    "# # For debugging purposes (to check if we receive correctly the data)\n",
    "# counts = dstream.flatMap(lambda line: line.split(\" \"))\\\n",
    "#                 .filter(lambda word: len(word) > 0)\\\n",
    "#                 .map(lambda word: (word, 1))\\\n",
    "#                 .reduceByKey(lambda a, b: a + b)\n",
    "# counts.pprint()"
   ]
  },
  {
   "cell_type": "code",
   "execution_count": null,
   "metadata": {},
   "outputs": [],
   "source": [
    "# Start the streaming context\n",
    "ssc.start()\n",
    "# Wait for the streaming to finish\n",
    "ssc.awaitTermination()"
   ]
  },
  {
   "cell_type": "code",
   "execution_count": null,
   "metadata": {},
   "outputs": [],
   "source": [
    "ssc.stop(stopSparkContext=True, stopGraceFully=True)"
   ]
  },
  {
   "cell_type": "code",
   "execution_count": null,
   "metadata": {},
   "outputs": [],
   "source": []
  }
 ],
 "metadata": {
  "kernelspec": {
   "display_name": "testvenv",
   "language": "python",
   "name": "python3"
  },
  "language_info": {
   "codemirror_mode": {
    "name": "ipython",
    "version": 3
   },
   "file_extension": ".py",
   "mimetype": "text/x-python",
   "name": "python",
   "nbconvert_exporter": "python",
   "pygments_lexer": "ipython3",
   "version": "3.9.7"
  },
  "orig_nbformat": 4
 },
 "nbformat": 4,
 "nbformat_minor": 2
}
