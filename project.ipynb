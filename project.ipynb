{
 "cells": [
  {
   "attachments": {},
   "cell_type": "markdown",
   "metadata": {},
   "source": [
    "Spark project"
   ]
  },
  {
   "cell_type": "code",
   "execution_count": null,
   "metadata": {},
   "outputs": [],
   "source": [
    "from pyspark import SparkContext\n",
    "from pyspark.streaming import StreamingContext\n",
    "from textblob import TextBlob\n",
    "\n",
    "# Create a SparkContext\n",
    "sc = SparkContext(appName=\"RedditStreamingSentimentAnalysis\")\n",
    "\n",
    "# Create a StreamingContext with a batch interval of 10 seconds\n",
    "ssc = StreamingContext(sc, 10)\n",
    "\n",
    "# Create a DStream from the socket\n",
    "dstream = ssc.socketTextStream(\"localhost\", 12345)\n",
    "\n",
    "# Define a function to perform sentiment analysis on each message\n",
    "def analyze_sentiment(message):\n",
    "    blob = TextBlob(message)\n",
    "    polarity = blob.sentiment.polarity\n",
    "    subjectivity = blob.sentiment.subjectivity\n",
    "    if polarity > 0:\n",
    "        sentiment = \"positive\"\n",
    "    elif polarity < 0:\n",
    "        sentiment = \"negative\"\n",
    "    else:\n",
    "        sentiment = \"neutral\"\n",
    "    return (sentiment, polarity, subjectivity)\n",
    "\n",
    "# Apply the sentiment analysis function to each message in the DStream\n",
    "tagged_dstream = dstream.map(lambda message: analyze_sentiment(message))\n",
    "\n",
    "# Print the results\n",
    "tagged_dstream.pprint()\n",
    "\n",
    "# Start the streaming context\n",
    "ssc.start()\n",
    "\n",
    "# Wait for the streaming to finish\n",
    "ssc.awaitTermination()"
   ]
  }
 ],
 "metadata": {
  "language_info": {
   "name": "python"
  },
  "orig_nbformat": 4
 },
 "nbformat": 4,
 "nbformat_minor": 2
}
